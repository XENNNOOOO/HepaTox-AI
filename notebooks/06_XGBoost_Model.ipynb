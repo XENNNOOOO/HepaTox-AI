{
  "cells": [
    {
      "cell_type": "markdown",
      "id": "b93df6c6",
      "metadata": {
        "id": "b93df6c6"
      },
      "source": [
        "## Notebook 7: XGBoost Model Evaluation\n",
        "\n",
        "Train and evaluate an XGBoost classifier on our molecular fingerprint data.\n"
      ]
    },
    {
      "cell_type": "markdown",
      "id": "4996bff4",
      "metadata": {
        "id": "4996bff4"
      },
      "source": [
        "### Setup"
      ]
    },
    {
      "cell_type": "code",
      "execution_count": 2,
      "id": "16bf103e",
      "metadata": {
        "id": "16bf103e",
        "outputId": "ab8a787f-562c-4fb0-c50f-37bd0069cd68",
        "colab": {
          "base_uri": "https://localhost:8080/"
        }
      },
      "outputs": [
        {
          "output_type": "stream",
          "name": "stdout",
          "text": [
            "Libraries imported successfully.\n"
          ]
        }
      ],
      "source": [
        "import pandas as pd\n",
        "import numpy as np\n",
        "import xgboost as xgb\n",
        "from sklearn.model_selection import StratifiedKFold, cross_val_score, train_test_split\n",
        "from sklearn.metrics import accuracy_score, roc_auc_score\n",
        "import ast\n",
        "import matplotlib.pyplot as plt\n",
        "import seaborn as sns\n",
        "import optuna\n",
        "\n",
        "print(\"Libraries imported successfully.\")"
      ]
    },
    {
      "cell_type": "markdown",
      "id": "f41381c8",
      "metadata": {
        "id": "f41381c8"
      },
      "source": [
        "### Load the Processed Data"
      ]
    },
    {
      "cell_type": "code",
      "execution_count": 3,
      "id": "9d282f87",
      "metadata": {
        "id": "9d282f87",
        "outputId": "939b8bbd-e431-4aa7-b5a4-dc9bb88c3c1e",
        "colab": {
          "base_uri": "https://localhost:8080/"
        }
      },
      "outputs": [
        {
          "output_type": "stream",
          "name": "stdout",
          "text": [
            "Processed data loaded successfully.\n",
            "Shape of the dataset: (907, 5)\n"
          ]
        }
      ],
      "source": [
        "try:\n",
        "    df = pd.read_csv('data/processed/dili_data_clean.csv')\n",
        "    print(\"Processed data loaded successfully.\")\n",
        "    print(f\"Shape of the dataset: {df.shape}\")\n",
        "except FileNotFoundError:\n",
        "    print(\"Error: dili_data_clean.csv not found.\")\n",
        "    print(\"Please make sure you have uploaded the file to your Colab session.\")"
      ]
    },
    {
      "cell_type": "markdown",
      "id": "95ffee20",
      "metadata": {
        "id": "95ffee20"
      },
      "source": [
        "### Prepare Data for Modeling"
      ]
    },
    {
      "cell_type": "code",
      "execution_count": 4,
      "id": "65aa6746",
      "metadata": {
        "id": "65aa6746",
        "outputId": "8bc9edfd-2eb4-4ee3-9437-07de14539e15",
        "colab": {
          "base_uri": "https://localhost:8080/"
        }
      },
      "outputs": [
        {
          "output_type": "stream",
          "name": "stdout",
          "text": [
            "Data prepared. Training set shape: (725, 1024), Test set shape: (182, 1024)\n"
          ]
        }
      ],
      "source": [
        "# Drop rows with missing fingerprints\n",
        "df.dropna(subset=['fingerprint'], inplace=True)\n",
        "\n",
        "# Safely convert the string representation of the list back into a list of integers\n",
        "df['fingerprint'] = df['fingerprint'].apply(ast.literal_eval)\n",
        "\n",
        "# Separate features (X) and target (y)\n",
        "X = np.array(df['fingerprint'].tolist())\n",
        "y = df['dili_concern'].values\n",
        "\n",
        "# Create a train/test split for final evaluation\n",
        "X_train, X_test, y_train, y_test = train_test_split(X, y, test_size=0.2, random_state=42, stratify=y)\n",
        "\n",
        "\n",
        "print(f\"Data prepared. Training set shape: {X_train.shape}, Test set shape: {X_test.shape}\")"
      ]
    },
    {
      "cell_type": "markdown",
      "id": "d5f4f20c",
      "metadata": {
        "id": "d5f4f20c"
      },
      "source": [
        "### Fine-Tune the XGBoost Model with Optuna\n",
        "\n",
        "Use Optuna to perform a more intelligent search for the best hyperparameters."
      ]
    },
    {
      "cell_type": "code",
      "execution_count": 5,
      "id": "d32ef2c4",
      "metadata": {
        "id": "d32ef2c4",
        "outputId": "26872838-e1ed-4554-e59a-2391c1405e51",
        "colab": {
          "base_uri": "https://localhost:8080/"
        }
      },
      "outputs": [
        {
          "output_type": "stream",
          "name": "stderr",
          "text": [
            "[I 2025-08-23 02:49:16,325] A new study created in memory with name: no-name-6f819323-d08e-4559-8f30-5515d0774c40\n"
          ]
        },
        {
          "output_type": "stream",
          "name": "stdout",
          "text": [
            "Starting Optuna hyperparameter search...\n"
          ]
        },
        {
          "output_type": "stream",
          "name": "stderr",
          "text": [
            "[I 2025-08-23 02:49:20,377] Trial 0 finished with value: 0.697274587048172 and parameters: {'n_estimators': 84, 'max_depth': 10, 'learning_rate': 0.17518259762106722, 'subsample': 0.7053992715677528, 'colsample_bytree': 0.8914399719020145, 'gamma': 0.43348269398175515, 'min_child_weight': 1}. Best is trial 0 with value: 0.697274587048172.\n",
            "[I 2025-08-23 02:49:22,374] Trial 1 finished with value: 0.6996357730319994 and parameters: {'n_estimators': 251, 'max_depth': 5, 'learning_rate': 0.014213700572033144, 'subsample': 0.8469223682218545, 'colsample_bytree': 0.7488629462048528, 'gamma': 0.2734402036000213, 'min_child_weight': 2}. Best is trial 1 with value: 0.6996357730319994.\n",
            "[I 2025-08-23 02:49:25,157] Trial 2 finished with value: 0.6689788513373419 and parameters: {'n_estimators': 428, 'max_depth': 4, 'learning_rate': 0.078105082870901, 'subsample': 0.8586445962398741, 'colsample_bytree': 0.6561025234163058, 'gamma': 0.2756306849133796, 'min_child_weight': 5}. Best is trial 1 with value: 0.6996357730319994.\n",
            "[I 2025-08-23 02:49:29,701] Trial 3 finished with value: 0.6652974635427467 and parameters: {'n_estimators': 368, 'max_depth': 10, 'learning_rate': 0.011420782534669313, 'subsample': 0.708645770711456, 'colsample_bytree': 0.9090474792077963, 'gamma': 0.22858666953235718, 'min_child_weight': 6}. Best is trial 1 with value: 0.6996357730319994.\n",
            "[I 2025-08-23 02:49:32,906] Trial 4 finished with value: 0.6635001036699151 and parameters: {'n_estimators': 448, 'max_depth': 4, 'learning_rate': 0.07013954027559213, 'subsample': 0.919728461509234, 'colsample_bytree': 0.6753077079010501, 'gamma': 0.0274325998972052, 'min_child_weight': 7}. Best is trial 1 with value: 0.6996357730319994.\n",
            "[I 2025-08-23 02:49:36,074] Trial 5 finished with value: 0.679432303545511 and parameters: {'n_estimators': 337, 'max_depth': 8, 'learning_rate': 0.015046914502670237, 'subsample': 0.7534223740618164, 'colsample_bytree': 0.9188709148117215, 'gamma': 0.012145420177390676, 'min_child_weight': 5}. Best is trial 1 with value: 0.6996357730319994.\n",
            "[I 2025-08-23 02:49:37,764] Trial 6 finished with value: 0.6494156472458359 and parameters: {'n_estimators': 184, 'max_depth': 7, 'learning_rate': 0.038733180764966055, 'subsample': 0.7609730420838877, 'colsample_bytree': 0.8846745363226634, 'gamma': 0.017013044130475607, 'min_child_weight': 9}. Best is trial 1 with value: 0.6996357730319994.\n",
            "[I 2025-08-23 02:49:38,746] Trial 7 finished with value: 0.7063463266293455 and parameters: {'n_estimators': 122, 'max_depth': 3, 'learning_rate': 0.19819063170234744, 'subsample': 0.7795522578525034, 'colsample_bytree': 0.7518546071787551, 'gamma': 0.20066810695531734, 'min_child_weight': 1}. Best is trial 7 with value: 0.7063463266293455.\n",
            "[I 2025-08-23 02:49:43,024] Trial 8 finished with value: 0.6675510401548137 and parameters: {'n_estimators': 333, 'max_depth': 10, 'learning_rate': 0.059878568401629556, 'subsample': 0.8881613602952796, 'colsample_bytree': 0.7117476935841844, 'gamma': 0.12990624416537166, 'min_child_weight': 5}. Best is trial 7 with value: 0.7063463266293455.\n",
            "[I 2025-08-23 02:49:46,307] Trial 9 finished with value: 0.6641085078443568 and parameters: {'n_estimators': 274, 'max_depth': 6, 'learning_rate': 0.09496764498715733, 'subsample': 0.751081040604256, 'colsample_bytree': 0.916574236719041, 'gamma': 0.44247071098591656, 'min_child_weight': 6}. Best is trial 7 with value: 0.7063463266293455.\n",
            "[I 2025-08-23 02:49:47,140] Trial 10 finished with value: 0.6697612481857764 and parameters: {'n_estimators': 74, 'max_depth': 3, 'learning_rate': 0.23145117471814208, 'subsample': 0.6127877814488378, 'colsample_bytree': 0.8045359811173417, 'gamma': 0.1674552436206407, 'min_child_weight': 3}. Best is trial 7 with value: 0.7063463266293455.\n",
            "[I 2025-08-23 02:49:48,783] Trial 11 finished with value: 0.7175712903448753 and parameters: {'n_estimators': 192, 'max_depth': 5, 'learning_rate': 0.03246553898758566, 'subsample': 0.9938846359142955, 'colsample_bytree': 0.7728947654111181, 'gamma': 0.32391601618937926, 'min_child_weight': 1}. Best is trial 11 with value: 0.7175712903448753.\n",
            "[I 2025-08-23 02:49:49,788] Trial 12 finished with value: 0.6773781878498859 and parameters: {'n_estimators': 125, 'max_depth': 3, 'learning_rate': 0.02842191171227475, 'subsample': 0.9944552740491125, 'colsample_bytree': 0.7726039964745129, 'gamma': 0.361367143181196, 'min_child_weight': 3}. Best is trial 11 with value: 0.7175712903448753.\n",
            "[I 2025-08-23 02:49:51,197] Trial 13 finished with value: 0.7064694173750778 and parameters: {'n_estimators': 193, 'max_depth': 5, 'learning_rate': 0.1372434045187584, 'subsample': 0.9823145226064269, 'colsample_bytree': 0.6137859550319772, 'gamma': 0.36477570191756326, 'min_child_weight': 1}. Best is trial 11 with value: 0.7175712903448753.\n",
            "[I 2025-08-23 02:49:52,983] Trial 14 finished with value: 0.6986791070564655 and parameters: {'n_estimators': 209, 'max_depth': 6, 'learning_rate': 0.02513742459618689, 'subsample': 0.9944193264279317, 'colsample_bytree': 0.6028764413263198, 'gamma': 0.3480440445653903, 'min_child_weight': 3}. Best is trial 11 with value: 0.7175712903448753.\n",
            "[I 2025-08-23 02:49:54,994] Trial 15 finished with value: 0.6594667219572881 and parameters: {'n_estimators': 182, 'max_depth': 5, 'learning_rate': 0.1173463488080115, 'subsample': 0.9335474024969367, 'colsample_bytree': 0.9902928329240286, 'gamma': 0.49393949926847347, 'min_child_weight': 10}. Best is trial 11 with value: 0.7175712903448753.\n",
            "[I 2025-08-23 02:49:57,895] Trial 16 finished with value: 0.7147833298776696 and parameters: {'n_estimators': 234, 'max_depth': 8, 'learning_rate': 0.04117164271705974, 'subsample': 0.9522916653695448, 'colsample_bytree': 0.8442609088274554, 'gamma': 0.34043741680890227, 'min_child_weight': 1}. Best is trial 11 with value: 0.7175712903448753.\n",
            "[I 2025-08-23 02:50:00,325] Trial 17 finished with value: 0.7040132697491189 and parameters: {'n_estimators': 247, 'max_depth': 8, 'learning_rate': 0.03943287265263806, 'subsample': 0.9464308927615487, 'colsample_bytree': 0.8292886040924345, 'gamma': 0.3060708103889064, 'min_child_weight': 2}. Best is trial 11 with value: 0.7175712903448753.\n",
            "[I 2025-08-23 02:50:03,430] Trial 18 finished with value: 0.6782605570530098 and parameters: {'n_estimators': 314, 'max_depth': 8, 'learning_rate': 0.02332998171026958, 'subsample': 0.8345131003785943, 'colsample_bytree': 0.8431884785456969, 'gamma': 0.4133499346581705, 'min_child_weight': 4}. Best is trial 11 with value: 0.7175712903448753.\n",
            "[I 2025-08-23 02:50:04,992] Trial 19 finished with value: 0.6578488492639436 and parameters: {'n_estimators': 145, 'max_depth': 7, 'learning_rate': 0.04163744331935491, 'subsample': 0.8936205756460475, 'colsample_bytree': 0.9907947031696477, 'gamma': 0.10101437462667859, 'min_child_weight': 8}. Best is trial 11 with value: 0.7175712903448753.\n",
            "[I 2025-08-23 02:50:10,383] Trial 20 finished with value: 0.6925739857626649 and parameters: {'n_estimators': 394, 'max_depth': 9, 'learning_rate': 0.019966081120410772, 'subsample': 0.9525085255013412, 'colsample_bytree': 0.8506936143746766, 'gamma': 0.308439757896286, 'min_child_weight': 2}. Best is trial 11 with value: 0.7175712903448753.\n",
            "[I 2025-08-23 02:50:11,939] Trial 21 finished with value: 0.7085672126615522 and parameters: {'n_estimators': 219, 'max_depth': 5, 'learning_rate': 0.1432725008809269, 'subsample': 0.973244485496653, 'colsample_bytree': 0.6027020063618291, 'gamma': 0.37014535848024294, 'min_child_weight': 1}. Best is trial 11 with value: 0.7175712903448753.\n",
            "[I 2025-08-23 02:50:13,868] Trial 22 finished with value: 0.7163552422420347 and parameters: {'n_estimators': 225, 'max_depth': 6, 'learning_rate': 0.046708001131032295, 'subsample': 0.9648422469715552, 'colsample_bytree': 0.7106958869017509, 'gamma': 0.38932741817645716, 'min_child_weight': 1}. Best is trial 11 with value: 0.7175712903448753.\n",
            "[I 2025-08-23 02:50:16,281] Trial 23 finished with value: 0.6988470523187504 and parameters: {'n_estimators': 300, 'max_depth': 6, 'learning_rate': 0.04752206965074186, 'subsample': 0.8875592707873402, 'colsample_bytree': 0.7057508481667012, 'gamma': 0.40662446174427147, 'min_child_weight': 2}. Best is trial 11 with value: 0.7175712903448753.\n",
            "[I 2025-08-23 02:50:18,008] Trial 24 finished with value: 0.6846215356970073 and parameters: {'n_estimators': 155, 'max_depth': 7, 'learning_rate': 0.03235068189828282, 'subsample': 0.922215828657037, 'colsample_bytree': 0.7944428495876515, 'gamma': 0.49502233795087347, 'min_child_weight': 4}. Best is trial 11 with value: 0.7175712903448753.\n",
            "[I 2025-08-23 02:50:21,834] Trial 25 finished with value: 0.7102551662174303 and parameters: {'n_estimators': 495, 'max_depth': 9, 'learning_rate': 0.054969756759603264, 'subsample': 0.9613200071496456, 'colsample_bytree': 0.7391662181426737, 'gamma': 0.3170594624971918, 'min_child_weight': 1}. Best is trial 11 with value: 0.7175712903448753.\n",
            "[I 2025-08-23 02:50:24,422] Trial 26 finished with value: 0.6952302508811942 and parameters: {'n_estimators': 236, 'max_depth': 4, 'learning_rate': 0.018858982531911466, 'subsample': 0.8100158078379776, 'colsample_bytree': 0.7996816292466917, 'gamma': 0.23148777201101345, 'min_child_weight': 3}. Best is trial 11 with value: 0.7175712903448753.\n",
            "[I 2025-08-23 02:50:26,858] Trial 27 finished with value: 0.7022031930333817 and parameters: {'n_estimators': 282, 'max_depth': 6, 'learning_rate': 0.0331568544403332, 'subsample': 0.9031861109967864, 'colsample_bytree': 0.6701387060431414, 'gamma': 0.3298333823764522, 'min_child_weight': 2}. Best is trial 11 with value: 0.7175712903448753.\n",
            "[I 2025-08-23 02:50:28,781] Trial 28 finished with value: 0.682548344737024 and parameters: {'n_estimators': 168, 'max_depth': 9, 'learning_rate': 0.0518743276035711, 'subsample': 0.952549595911142, 'colsample_bytree': 0.7139447273596604, 'gamma': 0.39341506457655445, 'min_child_weight': 4}. Best is trial 11 with value: 0.7175712903448753.\n",
            "[I 2025-08-23 02:50:30,048] Trial 29 finished with value: 0.7063931854309213 and parameters: {'n_estimators': 97, 'max_depth': 7, 'learning_rate': 0.08472514895214914, 'subsample': 0.614297979903495, 'colsample_bytree': 0.8778014197945749, 'gamma': 0.4428092964566237, 'min_child_weight': 1}. Best is trial 11 with value: 0.7175712903448753.\n",
            "[I 2025-08-23 02:50:32,383] Trial 30 finished with value: 0.7081371207408944 and parameters: {'n_estimators': 264, 'max_depth': 8, 'learning_rate': 0.05885518347906398, 'subsample': 0.9985205430548282, 'colsample_bytree': 0.9571848100261428, 'gamma': 0.27498684911989724, 'min_child_weight': 1}. Best is trial 11 with value: 0.7175712903448753.\n",
            "[I 2025-08-23 02:50:36,832] Trial 31 finished with value: 0.7154287096551248 and parameters: {'n_estimators': 479, 'max_depth': 9, 'learning_rate': 0.04781805492579852, 'subsample': 0.964426267331788, 'colsample_bytree': 0.7486686585332392, 'gamma': 0.3079020316061062, 'min_child_weight': 1}. Best is trial 11 with value: 0.7175712903448753.\n",
            "[I 2025-08-23 02:50:39,764] Trial 32 finished with value: 0.6985198009537632 and parameters: {'n_estimators': 232, 'max_depth': 9, 'learning_rate': 0.03277630641222513, 'subsample': 0.9646569773973748, 'colsample_bytree': 0.7745910000435099, 'gamma': 0.2894645525876677, 'min_child_weight': 2}. Best is trial 11 with value: 0.7175712903448753.\n",
            "[I 2025-08-23 02:50:43,761] Trial 33 finished with value: 0.70892591056742 and parameters: {'n_estimators': 491, 'max_depth': 10, 'learning_rate': 0.04345660423416135, 'subsample': 0.8669225647943475, 'colsample_bytree': 0.7324989687470598, 'gamma': 0.24461255294754547, 'min_child_weight': 1}. Best is trial 11 with value: 0.7175712903448753.\n",
            "[I 2025-08-23 02:50:45,672] Trial 34 finished with value: 0.7010720160342802 and parameters: {'n_estimators': 210, 'max_depth': 8, 'learning_rate': 0.07188507514372698, 'subsample': 0.9250571642855194, 'colsample_bytree': 0.8225334891084598, 'gamma': 0.3396543210851933, 'min_child_weight': 2}. Best is trial 11 with value: 0.7175712903448753.\n",
            "[I 2025-08-23 02:50:48,560] Trial 35 finished with value: 0.6836326629345496 and parameters: {'n_estimators': 371, 'max_depth': 4, 'learning_rate': 0.026393447822461613, 'subsample': 0.6574281715496455, 'colsample_bytree': 0.7650688946942705, 'gamma': 0.3886904565045559, 'min_child_weight': 3}. Best is trial 11 with value: 0.7175712903448753.\n",
            "[I 2025-08-23 02:50:49,716] Trial 36 finished with value: 0.6958166424770198 and parameters: {'n_estimators': 53, 'max_depth': 5, 'learning_rate': 0.2992768868914861, 'subsample': 0.8674606082382148, 'colsample_bytree': 0.7003718881360513, 'gamma': 0.4605835669738555, 'min_child_weight': 2}. Best is trial 11 with value: 0.7175712903448753.\n",
            "[I 2025-08-23 02:50:52,898] Trial 37 finished with value: 0.7096052249637155 and parameters: {'n_estimators': 435, 'max_depth': 7, 'learning_rate': 0.06613734948239562, 'subsample': 0.9745522005501884, 'colsample_bytree': 0.6457508263454499, 'gamma': 0.2726409850959972, 'min_child_weight': 1}. Best is trial 11 with value: 0.7175712903448753.\n",
            "[I 2025-08-23 02:50:55,217] Trial 38 finished with value: 0.6590236367406177 and parameters: {'n_estimators': 294, 'max_depth': 9, 'learning_rate': 0.0969448528886493, 'subsample': 0.9341797986565435, 'colsample_bytree': 0.7273723115626933, 'gamma': 0.19654926934979067, 'min_child_weight': 7}. Best is trial 11 with value: 0.7175712903448753.\n",
            "[I 2025-08-23 02:50:57,486] Trial 39 finished with value: 0.7166169051074712 and parameters: {'n_estimators': 258, 'max_depth': 6, 'learning_rate': 0.010991656167074532, 'subsample': 0.9085697461167576, 'colsample_bytree': 0.6758871729749558, 'gamma': 0.2585334162907774, 'min_child_weight': 1}. Best is trial 11 with value: 0.7175712903448753.\n",
            "[I 2025-08-23 02:51:00,031] Trial 40 finished with value: 0.7051700186605848 and parameters: {'n_estimators': 324, 'max_depth': 6, 'learning_rate': 0.012839751841231145, 'subsample': 0.9105864862045598, 'colsample_bytree': 0.6372605906627439, 'gamma': 0.2534388995674056, 'min_child_weight': 2}. Best is trial 11 with value: 0.7175712903448753.\n",
            "[I 2025-08-23 02:51:02,574] Trial 41 finished with value: 0.718571566797982 and parameters: {'n_estimators': 259, 'max_depth': 5, 'learning_rate': 0.011071126488744748, 'subsample': 0.9407107924449338, 'colsample_bytree': 0.6787340887447817, 'gamma': 0.29205407572041486, 'min_child_weight': 1}. Best is trial 41 with value: 0.718571566797982.\n",
            "[I 2025-08-23 02:51:05,556] Trial 42 finished with value: 0.7161670467896883 and parameters: {'n_estimators': 261, 'max_depth': 5, 'learning_rate': 0.01135787430856147, 'subsample': 0.8421897165582405, 'colsample_bytree': 0.6864253923085134, 'gamma': 0.2163518701799179, 'min_child_weight': 1}. Best is trial 41 with value: 0.718571566797982.\n",
            "[I 2025-08-23 02:51:07,607] Trial 43 finished with value: 0.703026885064621 and parameters: {'n_estimators': 260, 'max_depth': 5, 'learning_rate': 0.010899033805031308, 'subsample': 0.8437059160929589, 'colsample_bytree': 0.6789313529437253, 'gamma': 0.18842404023176323, 'min_child_weight': 2}. Best is trial 41 with value: 0.718571566797982.\n",
            "[I 2025-08-23 02:51:09,046] Trial 44 finished with value: 0.7156290690441633 and parameters: {'n_estimators': 196, 'max_depth': 4, 'learning_rate': 0.015215713334927324, 'subsample': 0.8055191118050745, 'colsample_bytree': 0.6917312121341257, 'gamma': 0.14945873924852793, 'min_child_weight': 1}. Best is trial 41 with value: 0.718571566797982.\n",
            "[I 2025-08-23 02:51:11,729] Trial 45 finished with value: 0.6911727140783744 and parameters: {'n_estimators': 353, 'max_depth': 5, 'learning_rate': 0.012719677019209645, 'subsample': 0.7242510037155746, 'colsample_bytree': 0.6705599912898472, 'gamma': 0.20959994201395343, 'min_child_weight': 3}. Best is trial 41 with value: 0.718571566797982.\n",
            "[I 2025-08-23 02:51:14,075] Trial 46 finished with value: 0.7167605224963716 and parameters: {'n_estimators': 254, 'max_depth': 6, 'learning_rate': 0.010088827177256336, 'subsample': 0.8222557219612716, 'colsample_bytree': 0.6531675538213767, 'gamma': 0.09595448949964568, 'min_child_weight': 1}. Best is trial 41 with value: 0.718571566797982.\n",
            "[I 2025-08-23 02:51:17,354] Trial 47 finished with value: 0.695854862119013 and parameters: {'n_estimators': 284, 'max_depth': 6, 'learning_rate': 0.01010695675700701, 'subsample': 0.8795694441532909, 'colsample_bytree': 0.6315033710243715, 'gamma': 0.03604394333644795, 'min_child_weight': 3}. Best is trial 41 with value: 0.718571566797982.\n",
            "[I 2025-08-23 02:51:19,425] Trial 48 finished with value: 0.7187048171953833 and parameters: {'n_estimators': 177, 'max_depth': 6, 'learning_rate': 0.01644450197235767, 'subsample': 0.7844179895338222, 'colsample_bytree': 0.6533416752362085, 'gamma': 0.1009860557658966, 'min_child_weight': 1}. Best is trial 48 with value: 0.7187048171953833.\n",
            "[I 2025-08-23 02:51:21,090] Trial 49 finished with value: 0.7024737023982308 and parameters: {'n_estimators': 182, 'max_depth': 6, 'learning_rate': 0.01618138778559915, 'subsample': 0.7769474140703508, 'colsample_bytree': 0.6607409266687305, 'gamma': 0.09396679164279748, 'min_child_weight': 2}. Best is trial 48 with value: 0.7187048171953833.\n",
            "[I 2025-08-23 02:51:22,336] Trial 50 finished with value: 0.6650084318197526 and parameters: {'n_estimators': 142, 'max_depth': 4, 'learning_rate': 0.018164566698503897, 'subsample': 0.8242740410412448, 'colsample_bytree': 0.6312859241464689, 'gamma': 0.049099524154337666, 'min_child_weight': 6}. Best is trial 48 with value: 0.7187048171953833.\n",
            "[I 2025-08-23 02:51:24,351] Trial 51 finished with value: 0.7142569631626235 and parameters: {'n_estimators': 222, 'max_depth': 6, 'learning_rate': 0.013294239079554997, 'subsample': 0.7781905269429971, 'colsample_bytree': 0.65291752096456, 'gamma': 0.08057117162407118, 'min_child_weight': 1}. Best is trial 48 with value: 0.7187048171953833.\n",
            "[I 2025-08-23 02:51:26,003] Trial 52 finished with value: 0.7180393945676965 and parameters: {'n_estimators': 199, 'max_depth': 5, 'learning_rate': 0.02114776644885825, 'subsample': 0.7581064925270113, 'colsample_bytree': 0.6209393165481472, 'gamma': 0.1295156780531226, 'min_child_weight': 1}. Best is trial 48 with value: 0.7187048171953833.\n",
            "[I 2025-08-23 02:51:27,211] Trial 53 finished with value: 0.6983057571359458 and parameters: {'n_estimators': 123, 'max_depth': 5, 'learning_rate': 0.017044790139781076, 'subsample': 0.7335197319271965, 'colsample_bytree': 0.6267965218396389, 'gamma': 0.13119383753654484, 'min_child_weight': 2}. Best is trial 48 with value: 0.7187048171953833.\n",
            "[I 2025-08-23 02:51:28,925] Trial 54 finished with value: 0.7191136222268297 and parameters: {'n_estimators': 195, 'max_depth': 5, 'learning_rate': 0.02194592128102582, 'subsample': 0.7616786274848216, 'colsample_bytree': 0.6159466572255814, 'gamma': 0.11387738014284604, 'min_child_weight': 1}. Best is trial 54 with value: 0.7191136222268297.\n",
            "[I 2025-08-23 02:51:31,149] Trial 55 finished with value: 0.7021796254060405 and parameters: {'n_estimators': 164, 'max_depth': 5, 'learning_rate': 0.022746345050974642, 'subsample': 0.6814983149769905, 'colsample_bytree': 0.6150845144067707, 'gamma': 0.07115963676322638, 'min_child_weight': 2}. Best is trial 54 with value: 0.7191136222268297.\n",
            "[I 2025-08-23 02:51:33,067] Trial 56 finished with value: 0.6379398714493054 and parameters: {'n_estimators': 195, 'max_depth': 5, 'learning_rate': 0.020925925547165283, 'subsample': 0.7855360410344013, 'colsample_bytree': 0.6192245555209834, 'gamma': 0.11894381192388577, 'min_child_weight': 9}. Best is trial 54 with value: 0.7191136222268297.\n",
            "[I 2025-08-23 02:51:34,662] Trial 57 finished with value: 0.7132123850991776 and parameters: {'n_estimators': 203, 'max_depth': 4, 'learning_rate': 0.014209116515610055, 'subsample': 0.745204426555622, 'colsample_bytree': 0.6544368178146843, 'gamma': 0.16802175403357067, 'min_child_weight': 1}. Best is trial 54 with value: 0.7191136222268297.\n",
            "[I 2025-08-23 02:51:36,134] Trial 58 finished with value: 0.7219451931716083 and parameters: {'n_estimators': 174, 'max_depth': 5, 'learning_rate': 0.02899850046010507, 'subsample': 0.7638168022620366, 'colsample_bytree': 0.6049471506491609, 'gamma': 0.0597066738954925, 'min_child_weight': 1}. Best is trial 58 with value: 0.7219451931716083.\n",
            "[I 2025-08-23 02:51:37,080] Trial 59 finished with value: 0.6872637708203747 and parameters: {'n_estimators': 96, 'max_depth': 3, 'learning_rate': 0.028031985661185442, 'subsample': 0.7647816529222611, 'colsample_bytree': 0.6015120634624274, 'gamma': 0.009564312104232794, 'min_child_weight': 2}. Best is trial 58 with value: 0.7219451931716083.\n",
            "[I 2025-08-23 02:51:38,422] Trial 60 finished with value: 0.6939364157854724 and parameters: {'n_estimators': 138, 'max_depth': 5, 'learning_rate': 0.022409630094268673, 'subsample': 0.6900014568657651, 'colsample_bytree': 0.6132454521606252, 'gamma': 0.05190732995149302, 'min_child_weight': 3}. Best is trial 58 with value: 0.7219451931716083.\n",
            "[I 2025-08-23 02:51:39,904] Trial 61 finished with value: 0.7166893358214113 and parameters: {'n_estimators': 174, 'max_depth': 5, 'learning_rate': 0.03547978459623893, 'subsample': 0.7956836354574947, 'colsample_bytree': 0.6452844309946838, 'gamma': 0.06842414011489265, 'min_child_weight': 1}. Best is trial 58 with value: 0.7219451931716083.\n",
            "[I 2025-08-23 02:51:41,697] Trial 62 finished with value: 0.7234555947197456 and parameters: {'n_estimators': 244, 'max_depth': 4, 'learning_rate': 0.024689060338093424, 'subsample': 0.720771288259908, 'colsample_bytree': 0.6374956026289419, 'gamma': 0.10981681516216137, 'min_child_weight': 1}. Best is trial 62 with value: 0.7234555947197456.\n",
            "[I 2025-08-23 02:51:43,562] Trial 63 finished with value: 0.7157167046789689 and parameters: {'n_estimators': 154, 'max_depth': 4, 'learning_rate': 0.024528287340751513, 'subsample': 0.713398815286246, 'colsample_bytree': 0.6180947918614703, 'gamma': 0.11912903081216286, 'min_child_weight': 1}. Best is trial 62 with value: 0.7234555947197456.\n",
            "[I 2025-08-23 02:51:45,938] Trial 64 finished with value: 0.6956380537701292 and parameters: {'n_estimators': 238, 'max_depth': 3, 'learning_rate': 0.03041993411133378, 'subsample': 0.7619658772660269, 'colsample_bytree': 0.6392644502058258, 'gamma': 0.14874470545451868, 'min_child_weight': 2}. Best is trial 62 with value: 0.7234555947197456.\n",
            "[I 2025-08-23 02:51:47,499] Trial 65 finished with value: 0.7176275485520769 and parameters: {'n_estimators': 212, 'max_depth': 4, 'learning_rate': 0.020933119452424594, 'subsample': 0.7487263814570071, 'colsample_bytree': 0.6032028699982187, 'gamma': 0.11053276863703627, 'min_child_weight': 1}. Best is trial 62 with value: 0.7234555947197456.\n",
            "[I 2025-08-23 02:51:49,059] Trial 66 finished with value: 0.7211539152671229 and parameters: {'n_estimators': 209, 'max_depth': 4, 'learning_rate': 0.020319336961688944, 'subsample': 0.7372871777709377, 'colsample_bytree': 0.6020383897873814, 'gamma': 0.17356120922657495, 'min_child_weight': 1}. Best is trial 62 with value: 0.7234555947197456.\n",
            "[I 2025-08-23 02:51:50,501] Trial 67 finished with value: 0.7182007740686985 and parameters: {'n_estimators': 187, 'max_depth': 4, 'learning_rate': 0.018241719972694723, 'subsample': 0.7299860238752528, 'colsample_bytree': 0.6273371437342988, 'gamma': 0.1412888339779703, 'min_child_weight': 1}. Best is trial 62 with value: 0.7234555947197456.\n",
            "[I 2025-08-23 02:51:51,758] Trial 68 finished with value: 0.69157471145207 and parameters: {'n_estimators': 180, 'max_depth': 3, 'learning_rate': 0.017973544821833626, 'subsample': 0.7322317310585829, 'colsample_bytree': 0.6613722829883067, 'gamma': 0.16005020360817143, 'min_child_weight': 2}. Best is trial 62 with value: 0.7234555947197456.\n",
            "[I 2025-08-23 02:51:53,508] Trial 69 finished with value: 0.682403414195867 and parameters: {'n_estimators': 245, 'max_depth': 4, 'learning_rate': 0.015956993930506008, 'subsample': 0.7162324413256772, 'colsample_bytree': 0.6349074150339964, 'gamma': 0.17726654602159927, 'min_child_weight': 4}. Best is trial 62 with value: 0.7234555947197456.\n",
            "[I 2025-08-23 02:51:54,855] Trial 70 finished with value: 0.7206361877116594 and parameters: {'n_estimators': 162, 'max_depth': 4, 'learning_rate': 0.027201533149589806, 'subsample': 0.6960194325858792, 'colsample_bytree': 0.6054104511900265, 'gamma': 0.1423096420079047, 'min_child_weight': 1}. Best is trial 62 with value: 0.7234555947197456.\n",
            "[I 2025-08-23 02:51:56,259] Trial 71 finished with value: 0.7214750846637639 and parameters: {'n_estimators': 159, 'max_depth': 4, 'learning_rate': 0.026684219012349367, 'subsample': 0.698712274950446, 'colsample_bytree': 0.600941267774589, 'gamma': 0.14602358810386637, 'min_child_weight': 1}. Best is trial 62 with value: 0.7234555947197456.\n",
            "[I 2025-08-23 02:51:57,889] Trial 72 finished with value: 0.7080484829635773 and parameters: {'n_estimators': 113, 'max_depth': 3, 'learning_rate': 0.027257782225662542, 'subsample': 0.695083414361929, 'colsample_bytree': 0.608463082640615, 'gamma': 0.07825733116922612, 'min_child_weight': 1}. Best is trial 62 with value: 0.7234555947197456.\n",
            "[I 2025-08-23 02:51:59,558] Trial 73 finished with value: 0.7231904070771996 and parameters: {'n_estimators': 162, 'max_depth': 4, 'learning_rate': 0.02538113760283838, 'subsample': 0.7018675514478034, 'colsample_bytree': 0.600227965836023, 'gamma': 0.05456646409912618, 'min_child_weight': 1}. Best is trial 62 with value: 0.7234555947197456.\n",
            "[I 2025-08-23 02:52:00,843] Trial 74 finished with value: 0.7017766258898335 and parameters: {'n_estimators': 158, 'max_depth': 4, 'learning_rate': 0.025688769421483567, 'subsample': 0.6675902742824189, 'colsample_bytree': 0.6033966258056713, 'gamma': 0.05508285143627942, 'min_child_weight': 2}. Best is trial 62 with value: 0.7234555947197456.\n",
            "[I 2025-08-23 02:52:01,926] Trial 75 finished with value: 0.7095056672886862 and parameters: {'n_estimators': 135, 'max_depth': 3, 'learning_rate': 0.029592196404421886, 'subsample': 0.63806509048281, 'colsample_bytree': 0.6221866858396549, 'gamma': 0.027662863280678962, 'min_child_weight': 1}. Best is trial 62 with value: 0.7234555947197456.\n",
            "[I 2025-08-23 02:52:02,999] Trial 76 finished with value: 0.6489695901582695 and parameters: {'n_estimators': 109, 'max_depth': 4, 'learning_rate': 0.03673295297433632, 'subsample': 0.7004783852387804, 'colsample_bytree': 0.643186168747858, 'gamma': 0.09048793787925101, 'min_child_weight': 7}. Best is trial 62 with value: 0.7234555947197456.\n",
            "[I 2025-08-23 02:52:04,420] Trial 77 finished with value: 0.6722443154329947 and parameters: {'n_estimators': 172, 'max_depth': 4, 'learning_rate': 0.02469587899104089, 'subsample': 0.6809014185932638, 'colsample_bytree': 0.6126430863447504, 'gamma': 0.10961689017174198, 'min_child_weight': 5}. Best is trial 62 with value: 0.7234555947197456.\n",
            "[I 2025-08-23 02:52:05,562] Trial 78 finished with value: 0.6977558573501971 and parameters: {'n_estimators': 129, 'max_depth': 4, 'learning_rate': 0.023205385959686867, 'subsample': 0.7414837038564664, 'colsample_bytree': 0.6019926179644243, 'gamma': 0.13512965069796762, 'min_child_weight': 2}. Best is trial 62 with value: 0.7234555947197456.\n",
            "[I 2025-08-23 02:52:06,779] Trial 79 finished with value: 0.7096804547653603 and parameters: {'n_estimators': 155, 'max_depth': 3, 'learning_rate': 0.020360882870900626, 'subsample': 0.6624861380008847, 'colsample_bytree': 0.6273101348487028, 'gamma': 0.06142058869233041, 'min_child_weight': 1}. Best is trial 62 with value: 0.7234555947197456.\n",
            "[I 2025-08-23 02:52:08,430] Trial 80 finished with value: 0.7217116594097727 and parameters: {'n_estimators': 216, 'max_depth': 4, 'learning_rate': 0.031070107501840784, 'subsample': 0.7097033921577313, 'colsample_bytree': 0.6145683543272541, 'gamma': 0.033374707888885136, 'min_child_weight': 1}. Best is trial 62 with value: 0.7234555947197456.\n",
            "[I 2025-08-23 02:52:10,600] Trial 81 finished with value: 0.7201802474255304 and parameters: {'n_estimators': 217, 'max_depth': 4, 'learning_rate': 0.030582200822574932, 'subsample': 0.7108832415394807, 'colsample_bytree': 0.6115189933460491, 'gamma': 0.08078136712231623, 'min_child_weight': 1}. Best is trial 62 with value: 0.7234555947197456.\n",
            "[I 2025-08-23 02:52:12,943] Trial 82 finished with value: 0.7222922109337203 and parameters: {'n_estimators': 220, 'max_depth': 4, 'learning_rate': 0.03178316170505585, 'subsample': 0.7080349505133372, 'colsample_bytree': 0.611266082446712, 'gamma': 0.03905657670823676, 'min_child_weight': 1}. Best is trial 62 with value: 0.7234555947197456.\n",
            "[I 2025-08-23 02:52:14,549] Trial 83 finished with value: 0.726021978021978 and parameters: {'n_estimators': 219, 'max_depth': 4, 'learning_rate': 0.03577298730002174, 'subsample': 0.7096467716188001, 'colsample_bytree': 0.6006461216221706, 'gamma': 0.04075701312346882, 'min_child_weight': 1}. Best is trial 83 with value: 0.726021978021978.\n",
            "[I 2025-08-23 02:52:16,212] Trial 84 finished with value: 0.6973652636671505 and parameters: {'n_estimators': 230, 'max_depth': 4, 'learning_rate': 0.03740198542338639, 'subsample': 0.7049559097095083, 'colsample_bytree': 0.6009806674563775, 'gamma': 0.03869517921261229, 'min_child_weight': 2}. Best is trial 83 with value: 0.726021978021978.\n",
            "[I 2025-08-23 02:52:17,766] Trial 85 finished with value: 0.7194461953141199 and parameters: {'n_estimators': 208, 'max_depth': 4, 'learning_rate': 0.033259277355393066, 'subsample': 0.6772427970160804, 'colsample_bytree': 0.6381382255305282, 'gamma': 0.0239551461561755, 'min_child_weight': 1}. Best is trial 83 with value: 0.726021978021978.\n",
            "[I 2025-08-23 02:52:19,263] Trial 86 finished with value: 0.6967160826594789 and parameters: {'n_estimators': 226, 'max_depth': 3, 'learning_rate': 0.0409722506658659, 'subsample': 0.6500262025325579, 'colsample_bytree': 0.6243572022147017, 'gamma': 0.040417403120366596, 'min_child_weight': 2}. Best is trial 83 with value: 0.726021978021978.\n",
            "[I 2025-08-23 02:52:21,130] Trial 87 finished with value: 0.7214099799571498 and parameters: {'n_estimators': 274, 'max_depth': 4, 'learning_rate': 0.033981878553834666, 'subsample': 0.7194220078887443, 'colsample_bytree': 0.6109483363535877, 'gamma': 0.06466459885153525, 'min_child_weight': 1}. Best is trial 83 with value: 0.726021978021978.\n",
            "[I 2025-08-23 02:52:23,428] Trial 88 finished with value: 0.7188248669569424 and parameters: {'n_estimators': 297, 'max_depth': 4, 'learning_rate': 0.03489045088988888, 'subsample': 0.7188428868569747, 'colsample_bytree': 0.6440687387372532, 'gamma': 0.0009047086707814275, 'min_child_weight': 1}. Best is trial 83 with value: 0.726021978021978.\n",
            "[I 2025-08-23 02:52:25,866] Trial 89 finished with value: 0.6949199668256272 and parameters: {'n_estimators': 245, 'max_depth': 3, 'learning_rate': 0.046574792680310936, 'subsample': 0.7379159966735496, 'colsample_bytree': 0.6644683336561724, 'gamma': 0.0139840533831509, 'min_child_weight': 2}. Best is trial 83 with value: 0.726021978021978.\n",
            "[I 2025-08-23 02:52:28,201] Trial 90 finished with value: 0.6289260487939734 and parameters: {'n_estimators': 307, 'max_depth': 4, 'learning_rate': 0.030380092613956907, 'subsample': 0.7067544134992229, 'colsample_bytree': 0.6316359952643965, 'gamma': 0.02966544707922983, 'min_child_weight': 10}. Best is trial 83 with value: 0.726021978021978.\n",
            "[I 2025-08-23 02:52:30,111] Trial 91 finished with value: 0.7247760038703435 and parameters: {'n_estimators': 272, 'max_depth': 4, 'learning_rate': 0.028558883141474034, 'subsample': 0.6908442620510445, 'colsample_bytree': 0.61001674457681, 'gamma': 0.04608669301150763, 'min_child_weight': 1}. Best is trial 83 with value: 0.726021978021978.\n",
            "[I 2025-08-23 02:52:32,039] Trial 92 finished with value: 0.719211901306241 and parameters: {'n_estimators': 269, 'max_depth': 4, 'learning_rate': 0.038661292183616, 'subsample': 0.7234224421339989, 'colsample_bytree': 0.611759426170923, 'gamma': 0.044932390057935145, 'min_child_weight': 1}. Best is trial 83 with value: 0.726021978021978.\n",
            "[I 2025-08-23 02:52:33,973] Trial 93 finished with value: 0.7217764876632802 and parameters: {'n_estimators': 282, 'max_depth': 4, 'learning_rate': 0.025239121302388184, 'subsample': 0.6887737570064799, 'colsample_bytree': 0.6199417399774303, 'gamma': 0.05825886922342265, 'min_child_weight': 1}. Best is trial 83 with value: 0.726021978021978.\n",
            "[I 2025-08-23 02:52:35,859] Trial 94 finished with value: 0.72255587808418 and parameters: {'n_estimators': 272, 'max_depth': 4, 'learning_rate': 0.028486779816708524, 'subsample': 0.6896926643917408, 'colsample_bytree': 0.6227439555264394, 'gamma': 0.06226613802744909, 'min_child_weight': 1}. Best is trial 83 with value: 0.726021978021978.\n",
            "[I 2025-08-23 02:52:38,932] Trial 95 finished with value: 0.7233238648144309 and parameters: {'n_estimators': 323, 'max_depth': 3, 'learning_rate': 0.024640276570909878, 'subsample': 0.6875147078299405, 'colsample_bytree': 0.6225035785312566, 'gamma': 0.05921215979953593, 'min_child_weight': 1}. Best is trial 83 with value: 0.726021978021978.\n",
            "[I 2025-08-23 02:52:41,050] Trial 96 finished with value: 0.7243383094892529 and parameters: {'n_estimators': 338, 'max_depth': 3, 'learning_rate': 0.024986885201548507, 'subsample': 0.6864589282629893, 'colsample_bytree': 0.6232240383436279, 'gamma': 0.05529138801895891, 'min_child_weight': 1}. Best is trial 83 with value: 0.726021978021978.\n",
            "[I 2025-08-23 02:52:43,207] Trial 97 finished with value: 0.6922591056742 and parameters: {'n_estimators': 339, 'max_depth': 3, 'learning_rate': 0.024234981407000183, 'subsample': 0.6398413666980398, 'colsample_bytree': 0.9522586565243936, 'gamma': 0.05709242962489078, 'min_child_weight': 2}. Best is trial 83 with value: 0.726021978021978.\n",
            "[I 2025-08-23 02:52:45,010] Trial 98 finished with value: 0.7205928536871932 and parameters: {'n_estimators': 290, 'max_depth': 3, 'learning_rate': 0.02859271936123387, 'subsample': 0.6709374422288273, 'colsample_bytree': 0.6497007795338129, 'gamma': 0.017921192279790582, 'min_child_weight': 1}. Best is trial 83 with value: 0.726021978021978.\n",
            "[I 2025-08-23 02:52:46,981] Trial 99 finished with value: 0.6964430161033934 and parameters: {'n_estimators': 321, 'max_depth': 3, 'learning_rate': 0.025895769482460886, 'subsample': 0.6513652938832353, 'colsample_bytree': 0.6350901950985968, 'gamma': 0.08691901943106506, 'min_child_weight': 2}. Best is trial 83 with value: 0.726021978021978.\n"
          ]
        },
        {
          "output_type": "stream",
          "name": "stdout",
          "text": [
            "\n",
            "Best trial found:\n",
            "  Value: 0.7260\n",
            "  Params: \n",
            "    n_estimators: 219\n",
            "    max_depth: 4\n",
            "    learning_rate: 0.03577298730002174\n",
            "    subsample: 0.7096467716188001\n",
            "    colsample_bytree: 0.6006461216221706\n",
            "    gamma: 0.04075701312346882\n",
            "    min_child_weight: 1\n"
          ]
        }
      ],
      "source": [
        "# Define the objective function for Optuna to optimize\n",
        "def objective(trial):\n",
        "    # Define the search space for hyperparameters\n",
        "    param = {\n",
        "        'objective': 'binary:logistic',\n",
        "        'eval_metric': 'logloss',\n",
        "        'use_label_encoder': False,\n",
        "        'random_state': 42,\n",
        "        'n_estimators': trial.suggest_int('n_estimators', 50, 500),\n",
        "        'max_depth': trial.suggest_int('max_depth', 3, 10),\n",
        "        'learning_rate': trial.suggest_float('learning_rate', 0.01, 0.3, log=True),\n",
        "        'subsample': trial.suggest_float('subsample', 0.6, 1.0),\n",
        "        'colsample_bytree': trial.suggest_float('colsample_bytree', 0.6, 1.0),\n",
        "        'gamma': trial.suggest_float('gamma', 0, 0.5),\n",
        "        'min_child_weight': trial.suggest_int('min_child_weight', 1, 10),\n",
        "    }\n",
        "\n",
        "    # Add class weight balancing\n",
        "    neg_count = np.sum(y_train == 0)\n",
        "    pos_count = np.sum(y_train == 1)\n",
        "    param['scale_pos_weight'] = neg_count / pos_count if pos_count > 0 else 1\n",
        "\n",
        "    model = xgb.XGBClassifier(**param)\n",
        "\n",
        "    # Perform cross-validation\n",
        "    cv = StratifiedKFold(n_splits=5, shuffle=True, random_state=42)\n",
        "    scores = cross_val_score(model, X_train, y_train, cv=cv, scoring='roc_auc', n_jobs=-1)\n",
        "\n",
        "    return np.mean(scores)\n",
        "\n",
        "# Create an Optuna study and run the optimization\n",
        "# We want to maximize the ROC AUC score\n",
        "study = optuna.create_study(direction='maximize')\n",
        "print(\"Starting Optuna hyperparameter search...\")\n",
        "study.optimize(objective, n_trials=100) # Run for 100 trials\n",
        "\n",
        "print(\"\\nBest trial found:\")\n",
        "print(f\"  Value: {study.best_value:.4f}\")\n",
        "print(\"  Params: \")\n",
        "for key, value in study.best_params.items():\n",
        "    print(f\"    {key}: {value}\")"
      ]
    },
    {
      "cell_type": "markdown",
      "id": "67fa0ada",
      "metadata": {
        "id": "67fa0ada"
      },
      "source": [
        "### Evaluate the Best Model"
      ]
    },
    {
      "cell_type": "code",
      "execution_count": 6,
      "id": "12e954d9",
      "metadata": {
        "id": "12e954d9",
        "outputId": "c4590fc3-71b3-4b2d-9099-e04688d4635d",
        "colab": {
          "base_uri": "https://localhost:8080/"
        }
      },
      "outputs": [
        {
          "output_type": "stream",
          "name": "stderr",
          "text": [
            "/usr/local/lib/python3.12/dist-packages/xgboost/training.py:183: UserWarning: [02:52:47] WARNING: /workspace/src/learner.cc:738: \n",
            "Parameters: { \"use_label_encoder\" } are not used.\n",
            "\n",
            "  bst.update(dtrain, iteration=i, fobj=obj)\n"
          ]
        },
        {
          "output_type": "stream",
          "name": "stdout",
          "text": [
            "\n",
            "--- Tuned XGBoost Model Performance ---\n",
            "Accuracy on Test Set: 0.753\n",
            "ROC AUC on Test Set:  0.757\n"
          ]
        }
      ],
      "source": [
        "# Get the best parameters\n",
        "best_params = study.best_params\n",
        "\n",
        "# Add the static parameters back in\n",
        "neg_count = np.sum(y_train == 0)\n",
        "pos_count = np.sum(y_train == 1)\n",
        "best_params['objective'] = 'binary:logistic'\n",
        "best_params['eval_metric'] = 'logloss'\n",
        "best_params['use_label_encoder'] = False\n",
        "best_params['random_state'] = 42\n",
        "best_params['scale_pos_weight'] = neg_count / pos_count if pos_count > 0 else 1\n",
        "\n",
        "# Train the final model with the best parameters\n",
        "best_model = xgb.XGBClassifier(**best_params)\n",
        "best_model.fit(X_train, y_train)\n",
        "\n",
        "# Make predictions on the test set\n",
        "y_pred = best_model.predict(X_test)\n",
        "y_pred_proba = best_model.predict_proba(X_test)[:, 1]\n",
        "\n",
        "# Calculate metrics\n",
        "tuned_accuracy = accuracy_score(y_test, y_pred)\n",
        "tuned_roc_auc = roc_auc_score(y_test, y_pred_proba)\n",
        "\n",
        "print(\"\\n--- Tuned XGBoost Model Performance ---\")\n",
        "print(f\"Accuracy on Test Set: {tuned_accuracy:.3f}\")\n",
        "print(f\"ROC AUC on Test Set:  {tuned_roc_auc:.3f}\")"
      ]
    },
    {
      "cell_type": "markdown",
      "id": "cb02ff25",
      "metadata": {
        "id": "cb02ff25"
      },
      "source": [
        "### Tuning Results Visualization"
      ]
    },
    {
      "cell_type": "code",
      "execution_count": 8,
      "id": "b2ec15fa",
      "metadata": {
        "id": "b2ec15fa",
        "outputId": "3dc45b08-c087-4e32-8254-eceb7a89b5cb",
        "colab": {
          "base_uri": "https://localhost:8080/",
          "height": 1000
        }
      },
      "outputs": [
        {
          "output_type": "display_data",
          "data": {
            "text/html": [
              "<html>\n",
              "<head><meta charset=\"utf-8\" /></head>\n",
              "<body>\n",
              "    <div>            <script src=\"https://cdnjs.cloudflare.com/ajax/libs/mathjax/2.7.5/MathJax.js?config=TeX-AMS-MML_SVG\"></script><script type=\"text/javascript\">if (window.MathJax && window.MathJax.Hub && window.MathJax.Hub.Config) {window.MathJax.Hub.Config({SVG: {font: \"STIX-Web\"}});}</script>                <script type=\"text/javascript\">window.PlotlyConfig = {MathJaxConfig: 'local'};</script>\n",
              "        <script charset=\"utf-8\" src=\"https://cdn.plot.ly/plotly-2.35.2.min.js\"></script>                <div id=\"3aa66efb-edc4-4df5-9b58-c655190b8fb0\" class=\"plotly-graph-div\" style=\"height:525px; width:100%;\"></div>            <script type=\"text/javascript\">                                    window.PLOTLYENV=window.PLOTLYENV || {};                                    if (document.getElementById(\"3aa66efb-edc4-4df5-9b58-c655190b8fb0\")) {                    Plotly.newPlot(                        \"3aa66efb-edc4-4df5-9b58-c655190b8fb0\",                        [{\"mode\":\"markers\",\"name\":\"Objective Value\",\"x\":[0,1,2,3,4,5,6,7,8,9,10,11,12,13,14,15,16,17,18,19,20,21,22,23,24,25,26,27,28,29,30,31,32,33,34,35,36,37,38,39,40,41,42,43,44,45,46,47,48,49,50,51,52,53,54,55,56,57,58,59,60,61,62,63,64,65,66,67,68,69,70,71,72,73,74,75,76,77,78,79,80,81,82,83,84,85,86,87,88,89,90,91,92,93,94,95,96,97,98,99],\"y\":[0.697274587048172,0.6996357730319994,0.6689788513373419,0.6652974635427467,0.6635001036699151,0.679432303545511,0.6494156472458359,0.7063463266293455,0.6675510401548137,0.6641085078443568,0.6697612481857764,0.7175712903448753,0.6773781878498859,0.7064694173750778,0.6986791070564655,0.6594667219572881,0.7147833298776696,0.7040132697491189,0.6782605570530098,0.6578488492639436,0.6925739857626649,0.7085672126615522,0.7163552422420347,0.6988470523187504,0.6846215356970073,0.7102551662174303,0.6952302508811942,0.7022031930333817,0.682548344737024,0.7063931854309213,0.7081371207408944,0.7154287096551248,0.6985198009537632,0.70892591056742,0.7010720160342802,0.6836326629345496,0.6958166424770198,0.7096052249637155,0.6590236367406177,0.7166169051074712,0.7051700186605848,0.718571566797982,0.7161670467896883,0.703026885064621,0.7156290690441633,0.6911727140783744,0.7167605224963716,0.695854862119013,0.7187048171953833,0.7024737023982308,0.6650084318197526,0.7142569631626235,0.7180393945676965,0.6983057571359458,0.7191136222268297,0.7021796254060405,0.6379398714493054,0.7132123850991776,0.7219451931716083,0.6872637708203747,0.6939364157854724,0.7166893358214113,0.7234555947197456,0.7157167046789689,0.6956380537701292,0.7176275485520769,0.7211539152671229,0.7182007740686985,0.69157471145207,0.682403414195867,0.7206361877116594,0.7214750846637639,0.7080484829635773,0.7231904070771996,0.7017766258898335,0.7095056672886862,0.6489695901582695,0.6722443154329947,0.6977558573501971,0.7096804547653603,0.7217116594097727,0.7201802474255304,0.7222922109337203,0.726021978021978,0.6973652636671505,0.7194461953141199,0.6967160826594789,0.7214099799571498,0.7188248669569424,0.6949199668256272,0.6289260487939734,0.7247760038703435,0.719211901306241,0.7217764876632802,0.72255587808418,0.7233238648144309,0.7243383094892529,0.6922591056742,0.7205928536871932,0.6964430161033934],\"type\":\"scatter\"},{\"mode\":\"lines\",\"name\":\"Best Value\",\"x\":[0,1,2,3,4,5,6,7,8,9,10,11,12,13,14,15,16,17,18,19,20,21,22,23,24,25,26,27,28,29,30,31,32,33,34,35,36,37,38,39,40,41,42,43,44,45,46,47,48,49,50,51,52,53,54,55,56,57,58,59,60,61,62,63,64,65,66,67,68,69,70,71,72,73,74,75,76,77,78,79,80,81,82,83,84,85,86,87,88,89,90,91,92,93,94,95,96,97,98,99],\"y\":[0.697274587048172,0.6996357730319994,0.6996357730319994,0.6996357730319994,0.6996357730319994,0.6996357730319994,0.6996357730319994,0.7063463266293455,0.7063463266293455,0.7063463266293455,0.7063463266293455,0.7175712903448753,0.7175712903448753,0.7175712903448753,0.7175712903448753,0.7175712903448753,0.7175712903448753,0.7175712903448753,0.7175712903448753,0.7175712903448753,0.7175712903448753,0.7175712903448753,0.7175712903448753,0.7175712903448753,0.7175712903448753,0.7175712903448753,0.7175712903448753,0.7175712903448753,0.7175712903448753,0.7175712903448753,0.7175712903448753,0.7175712903448753,0.7175712903448753,0.7175712903448753,0.7175712903448753,0.7175712903448753,0.7175712903448753,0.7175712903448753,0.7175712903448753,0.7175712903448753,0.7175712903448753,0.718571566797982,0.718571566797982,0.718571566797982,0.718571566797982,0.718571566797982,0.718571566797982,0.718571566797982,0.7187048171953833,0.7187048171953833,0.7187048171953833,0.7187048171953833,0.7187048171953833,0.7187048171953833,0.7191136222268297,0.7191136222268297,0.7191136222268297,0.7191136222268297,0.7219451931716083,0.7219451931716083,0.7219451931716083,0.7219451931716083,0.7234555947197456,0.7234555947197456,0.7234555947197456,0.7234555947197456,0.7234555947197456,0.7234555947197456,0.7234555947197456,0.7234555947197456,0.7234555947197456,0.7234555947197456,0.7234555947197456,0.7234555947197456,0.7234555947197456,0.7234555947197456,0.7234555947197456,0.7234555947197456,0.7234555947197456,0.7234555947197456,0.7234555947197456,0.7234555947197456,0.7234555947197456,0.726021978021978,0.726021978021978,0.726021978021978,0.726021978021978,0.726021978021978,0.726021978021978,0.726021978021978,0.726021978021978,0.726021978021978,0.726021978021978,0.726021978021978,0.726021978021978,0.726021978021978,0.726021978021978,0.726021978021978,0.726021978021978,0.726021978021978],\"type\":\"scatter\"},{\"marker\":{\"color\":\"#cccccc\"},\"mode\":\"markers\",\"name\":\"Infeasible Trial\",\"showlegend\":false,\"x\":[],\"y\":[],\"type\":\"scatter\"}],                        {\"title\":{\"text\":\"Optimization History Plot\"},\"xaxis\":{\"title\":{\"text\":\"Trial\"}},\"yaxis\":{\"title\":{\"text\":\"Objective Value\"}},\"template\":{\"data\":{\"histogram2dcontour\":[{\"type\":\"histogram2dcontour\",\"colorbar\":{\"outlinewidth\":0,\"ticks\":\"\"},\"colorscale\":[[0.0,\"#0d0887\"],[0.1111111111111111,\"#46039f\"],[0.2222222222222222,\"#7201a8\"],[0.3333333333333333,\"#9c179e\"],[0.4444444444444444,\"#bd3786\"],[0.5555555555555556,\"#d8576b\"],[0.6666666666666666,\"#ed7953\"],[0.7777777777777778,\"#fb9f3a\"],[0.8888888888888888,\"#fdca26\"],[1.0,\"#f0f921\"]]}],\"choropleth\":[{\"type\":\"choropleth\",\"colorbar\":{\"outlinewidth\":0,\"ticks\":\"\"}}],\"histogram2d\":[{\"type\":\"histogram2d\",\"colorbar\":{\"outlinewidth\":0,\"ticks\":\"\"},\"colorscale\":[[0.0,\"#0d0887\"],[0.1111111111111111,\"#46039f\"],[0.2222222222222222,\"#7201a8\"],[0.3333333333333333,\"#9c179e\"],[0.4444444444444444,\"#bd3786\"],[0.5555555555555556,\"#d8576b\"],[0.6666666666666666,\"#ed7953\"],[0.7777777777777778,\"#fb9f3a\"],[0.8888888888888888,\"#fdca26\"],[1.0,\"#f0f921\"]]}],\"heatmap\":[{\"type\":\"heatmap\",\"colorbar\":{\"outlinewidth\":0,\"ticks\":\"\"},\"colorscale\":[[0.0,\"#0d0887\"],[0.1111111111111111,\"#46039f\"],[0.2222222222222222,\"#7201a8\"],[0.3333333333333333,\"#9c179e\"],[0.4444444444444444,\"#bd3786\"],[0.5555555555555556,\"#d8576b\"],[0.6666666666666666,\"#ed7953\"],[0.7777777777777778,\"#fb9f3a\"],[0.8888888888888888,\"#fdca26\"],[1.0,\"#f0f921\"]]}],\"heatmapgl\":[{\"type\":\"heatmapgl\",\"colorbar\":{\"outlinewidth\":0,\"ticks\":\"\"},\"colorscale\":[[0.0,\"#0d0887\"],[0.1111111111111111,\"#46039f\"],[0.2222222222222222,\"#7201a8\"],[0.3333333333333333,\"#9c179e\"],[0.4444444444444444,\"#bd3786\"],[0.5555555555555556,\"#d8576b\"],[0.6666666666666666,\"#ed7953\"],[0.7777777777777778,\"#fb9f3a\"],[0.8888888888888888,\"#fdca26\"],[1.0,\"#f0f921\"]]}],\"contourcarpet\":[{\"type\":\"contourcarpet\",\"colorbar\":{\"outlinewidth\":0,\"ticks\":\"\"}}],\"contour\":[{\"type\":\"contour\",\"colorbar\":{\"outlinewidth\":0,\"ticks\":\"\"},\"colorscale\":[[0.0,\"#0d0887\"],[0.1111111111111111,\"#46039f\"],[0.2222222222222222,\"#7201a8\"],[0.3333333333333333,\"#9c179e\"],[0.4444444444444444,\"#bd3786\"],[0.5555555555555556,\"#d8576b\"],[0.6666666666666666,\"#ed7953\"],[0.7777777777777778,\"#fb9f3a\"],[0.8888888888888888,\"#fdca26\"],[1.0,\"#f0f921\"]]}],\"surface\":[{\"type\":\"surface\",\"colorbar\":{\"outlinewidth\":0,\"ticks\":\"\"},\"colorscale\":[[0.0,\"#0d0887\"],[0.1111111111111111,\"#46039f\"],[0.2222222222222222,\"#7201a8\"],[0.3333333333333333,\"#9c179e\"],[0.4444444444444444,\"#bd3786\"],[0.5555555555555556,\"#d8576b\"],[0.6666666666666666,\"#ed7953\"],[0.7777777777777778,\"#fb9f3a\"],[0.8888888888888888,\"#fdca26\"],[1.0,\"#f0f921\"]]}],\"mesh3d\":[{\"type\":\"mesh3d\",\"colorbar\":{\"outlinewidth\":0,\"ticks\":\"\"}}],\"scatter\":[{\"fillpattern\":{\"fillmode\":\"overlay\",\"size\":10,\"solidity\":0.2},\"type\":\"scatter\"}],\"parcoords\":[{\"type\":\"parcoords\",\"line\":{\"colorbar\":{\"outlinewidth\":0,\"ticks\":\"\"}}}],\"scatterpolargl\":[{\"type\":\"scatterpolargl\",\"marker\":{\"colorbar\":{\"outlinewidth\":0,\"ticks\":\"\"}}}],\"bar\":[{\"error_x\":{\"color\":\"#2a3f5f\"},\"error_y\":{\"color\":\"#2a3f5f\"},\"marker\":{\"line\":{\"color\":\"#E5ECF6\",\"width\":0.5},\"pattern\":{\"fillmode\":\"overlay\",\"size\":10,\"solidity\":0.2}},\"type\":\"bar\"}],\"scattergeo\":[{\"type\":\"scattergeo\",\"marker\":{\"colorbar\":{\"outlinewidth\":0,\"ticks\":\"\"}}}],\"scatterpolar\":[{\"type\":\"scatterpolar\",\"marker\":{\"colorbar\":{\"outlinewidth\":0,\"ticks\":\"\"}}}],\"histogram\":[{\"marker\":{\"pattern\":{\"fillmode\":\"overlay\",\"size\":10,\"solidity\":0.2}},\"type\":\"histogram\"}],\"scattergl\":[{\"type\":\"scattergl\",\"marker\":{\"colorbar\":{\"outlinewidth\":0,\"ticks\":\"\"}}}],\"scatter3d\":[{\"type\":\"scatter3d\",\"line\":{\"colorbar\":{\"outlinewidth\":0,\"ticks\":\"\"}},\"marker\":{\"colorbar\":{\"outlinewidth\":0,\"ticks\":\"\"}}}],\"scattermapbox\":[{\"type\":\"scattermapbox\",\"marker\":{\"colorbar\":{\"outlinewidth\":0,\"ticks\":\"\"}}}],\"scatterternary\":[{\"type\":\"scatterternary\",\"marker\":{\"colorbar\":{\"outlinewidth\":0,\"ticks\":\"\"}}}],\"scattercarpet\":[{\"type\":\"scattercarpet\",\"marker\":{\"colorbar\":{\"outlinewidth\":0,\"ticks\":\"\"}}}],\"carpet\":[{\"aaxis\":{\"endlinecolor\":\"#2a3f5f\",\"gridcolor\":\"white\",\"linecolor\":\"white\",\"minorgridcolor\":\"white\",\"startlinecolor\":\"#2a3f5f\"},\"baxis\":{\"endlinecolor\":\"#2a3f5f\",\"gridcolor\":\"white\",\"linecolor\":\"white\",\"minorgridcolor\":\"white\",\"startlinecolor\":\"#2a3f5f\"},\"type\":\"carpet\"}],\"table\":[{\"cells\":{\"fill\":{\"color\":\"#EBF0F8\"},\"line\":{\"color\":\"white\"}},\"header\":{\"fill\":{\"color\":\"#C8D4E3\"},\"line\":{\"color\":\"white\"}},\"type\":\"table\"}],\"barpolar\":[{\"marker\":{\"line\":{\"color\":\"#E5ECF6\",\"width\":0.5},\"pattern\":{\"fillmode\":\"overlay\",\"size\":10,\"solidity\":0.2}},\"type\":\"barpolar\"}],\"pie\":[{\"automargin\":true,\"type\":\"pie\"}]},\"layout\":{\"autotypenumbers\":\"strict\",\"colorway\":[\"#636efa\",\"#EF553B\",\"#00cc96\",\"#ab63fa\",\"#FFA15A\",\"#19d3f3\",\"#FF6692\",\"#B6E880\",\"#FF97FF\",\"#FECB52\"],\"font\":{\"color\":\"#2a3f5f\"},\"hovermode\":\"closest\",\"hoverlabel\":{\"align\":\"left\"},\"paper_bgcolor\":\"white\",\"plot_bgcolor\":\"#E5ECF6\",\"polar\":{\"bgcolor\":\"#E5ECF6\",\"angularaxis\":{\"gridcolor\":\"white\",\"linecolor\":\"white\",\"ticks\":\"\"},\"radialaxis\":{\"gridcolor\":\"white\",\"linecolor\":\"white\",\"ticks\":\"\"}},\"ternary\":{\"bgcolor\":\"#E5ECF6\",\"aaxis\":{\"gridcolor\":\"white\",\"linecolor\":\"white\",\"ticks\":\"\"},\"baxis\":{\"gridcolor\":\"white\",\"linecolor\":\"white\",\"ticks\":\"\"},\"caxis\":{\"gridcolor\":\"white\",\"linecolor\":\"white\",\"ticks\":\"\"}},\"coloraxis\":{\"colorbar\":{\"outlinewidth\":0,\"ticks\":\"\"}},\"colorscale\":{\"sequential\":[[0.0,\"#0d0887\"],[0.1111111111111111,\"#46039f\"],[0.2222222222222222,\"#7201a8\"],[0.3333333333333333,\"#9c179e\"],[0.4444444444444444,\"#bd3786\"],[0.5555555555555556,\"#d8576b\"],[0.6666666666666666,\"#ed7953\"],[0.7777777777777778,\"#fb9f3a\"],[0.8888888888888888,\"#fdca26\"],[1.0,\"#f0f921\"]],\"sequentialminus\":[[0.0,\"#0d0887\"],[0.1111111111111111,\"#46039f\"],[0.2222222222222222,\"#7201a8\"],[0.3333333333333333,\"#9c179e\"],[0.4444444444444444,\"#bd3786\"],[0.5555555555555556,\"#d8576b\"],[0.6666666666666666,\"#ed7953\"],[0.7777777777777778,\"#fb9f3a\"],[0.8888888888888888,\"#fdca26\"],[1.0,\"#f0f921\"]],\"diverging\":[[0,\"#8e0152\"],[0.1,\"#c51b7d\"],[0.2,\"#de77ae\"],[0.3,\"#f1b6da\"],[0.4,\"#fde0ef\"],[0.5,\"#f7f7f7\"],[0.6,\"#e6f5d0\"],[0.7,\"#b8e186\"],[0.8,\"#7fbc41\"],[0.9,\"#4d9221\"],[1,\"#276419\"]]},\"xaxis\":{\"gridcolor\":\"white\",\"linecolor\":\"white\",\"ticks\":\"\",\"title\":{\"standoff\":15},\"zerolinecolor\":\"white\",\"automargin\":true,\"zerolinewidth\":2},\"yaxis\":{\"gridcolor\":\"white\",\"linecolor\":\"white\",\"ticks\":\"\",\"title\":{\"standoff\":15},\"zerolinecolor\":\"white\",\"automargin\":true,\"zerolinewidth\":2},\"scene\":{\"xaxis\":{\"backgroundcolor\":\"#E5ECF6\",\"gridcolor\":\"white\",\"linecolor\":\"white\",\"showbackground\":true,\"ticks\":\"\",\"zerolinecolor\":\"white\",\"gridwidth\":2},\"yaxis\":{\"backgroundcolor\":\"#E5ECF6\",\"gridcolor\":\"white\",\"linecolor\":\"white\",\"showbackground\":true,\"ticks\":\"\",\"zerolinecolor\":\"white\",\"gridwidth\":2},\"zaxis\":{\"backgroundcolor\":\"#E5ECF6\",\"gridcolor\":\"white\",\"linecolor\":\"white\",\"showbackground\":true,\"ticks\":\"\",\"zerolinecolor\":\"white\",\"gridwidth\":2}},\"shapedefaults\":{\"line\":{\"color\":\"#2a3f5f\"}},\"annotationdefaults\":{\"arrowcolor\":\"#2a3f5f\",\"arrowhead\":0,\"arrowwidth\":1},\"geo\":{\"bgcolor\":\"white\",\"landcolor\":\"#E5ECF6\",\"subunitcolor\":\"white\",\"showland\":true,\"showlakes\":true,\"lakecolor\":\"white\"},\"title\":{\"x\":0.05},\"mapbox\":{\"style\":\"light\"}}}},                        {\"responsive\": true}                    ).then(function(){\n",
              "                            \n",
              "var gd = document.getElementById('3aa66efb-edc4-4df5-9b58-c655190b8fb0');\n",
              "var x = new MutationObserver(function (mutations, observer) {{\n",
              "        var display = window.getComputedStyle(gd).display;\n",
              "        if (!display || display === 'none') {{\n",
              "            console.log([gd, 'removed!']);\n",
              "            Plotly.purge(gd);\n",
              "            observer.disconnect();\n",
              "        }}\n",
              "}});\n",
              "\n",
              "// Listen for the removal of the full notebook cells\n",
              "var notebookContainer = gd.closest('#notebook-container');\n",
              "if (notebookContainer) {{\n",
              "    x.observe(notebookContainer, {childList: true});\n",
              "}}\n",
              "\n",
              "// Listen for the clearing of the current output cell\n",
              "var outputEl = gd.closest('.output');\n",
              "if (outputEl) {{\n",
              "    x.observe(outputEl, {childList: true});\n",
              "}}\n",
              "\n",
              "                        })                };                            </script>        </div>\n",
              "</body>\n",
              "</html>"
            ]
          },
          "metadata": {}
        },
        {
          "output_type": "display_data",
          "data": {
            "text/html": [
              "<html>\n",
              "<head><meta charset=\"utf-8\" /></head>\n",
              "<body>\n",
              "    <div>            <script src=\"https://cdnjs.cloudflare.com/ajax/libs/mathjax/2.7.5/MathJax.js?config=TeX-AMS-MML_SVG\"></script><script type=\"text/javascript\">if (window.MathJax && window.MathJax.Hub && window.MathJax.Hub.Config) {window.MathJax.Hub.Config({SVG: {font: \"STIX-Web\"}});}</script>                <script type=\"text/javascript\">window.PlotlyConfig = {MathJaxConfig: 'local'};</script>\n",
              "        <script charset=\"utf-8\" src=\"https://cdn.plot.ly/plotly-2.35.2.min.js\"></script>                <div id=\"2c9d7551-6e2b-4d28-9835-770d790da652\" class=\"plotly-graph-div\" style=\"height:525px; width:100%;\"></div>            <script type=\"text/javascript\">                                    window.PLOTLYENV=window.PLOTLYENV || {};                                    if (document.getElementById(\"2c9d7551-6e2b-4d28-9835-770d790da652\")) {                    Plotly.newPlot(                        \"2c9d7551-6e2b-4d28-9835-770d790da652\",                        [{\"cliponaxis\":false,\"hovertemplate\":[\"max_depth (IntDistribution): 0.0011388772141262345\\u003cextra\\u003e\\u003c\\u002fextra\\u003e\",\"gamma (FloatDistribution): 0.004074114853296782\\u003cextra\\u003e\\u003c\\u002fextra\\u003e\",\"n_estimators (IntDistribution): 0.0052108115631402715\\u003cextra\\u003e\\u003c\\u002fextra\\u003e\",\"learning_rate (FloatDistribution): 0.007366979260778994\\u003cextra\\u003e\\u003c\\u002fextra\\u003e\",\"colsample_bytree (FloatDistribution): 0.013190760023484691\\u003cextra\\u003e\\u003c\\u002fextra\\u003e\",\"subsample (FloatDistribution): 0.01584023509611\\u003cextra\\u003e\\u003c\\u002fextra\\u003e\",\"min_child_weight (IntDistribution): 0.9531782219890629\\u003cextra\\u003e\\u003c\\u002fextra\\u003e\"],\"name\":\"Objective Value\",\"orientation\":\"h\",\"text\":[\"\\u003c0.01\",\"\\u003c0.01\",\"\\u003c0.01\",\"\\u003c0.01\",\"0.01\",\"0.02\",\"0.95\"],\"textposition\":\"outside\",\"x\":[0.0011388772141262345,0.004074114853296782,0.0052108115631402715,0.007366979260778994,0.013190760023484691,0.01584023509611,0.9531782219890629],\"y\":[\"max_depth\",\"gamma\",\"n_estimators\",\"learning_rate\",\"colsample_bytree\",\"subsample\",\"min_child_weight\"],\"type\":\"bar\"}],                        {\"title\":{\"text\":\"Hyperparameter Importances\"},\"xaxis\":{\"title\":{\"text\":\"Hyperparameter Importance\"}},\"yaxis\":{\"title\":{\"text\":\"Hyperparameter\"}},\"template\":{\"data\":{\"histogram2dcontour\":[{\"type\":\"histogram2dcontour\",\"colorbar\":{\"outlinewidth\":0,\"ticks\":\"\"},\"colorscale\":[[0.0,\"#0d0887\"],[0.1111111111111111,\"#46039f\"],[0.2222222222222222,\"#7201a8\"],[0.3333333333333333,\"#9c179e\"],[0.4444444444444444,\"#bd3786\"],[0.5555555555555556,\"#d8576b\"],[0.6666666666666666,\"#ed7953\"],[0.7777777777777778,\"#fb9f3a\"],[0.8888888888888888,\"#fdca26\"],[1.0,\"#f0f921\"]]}],\"choropleth\":[{\"type\":\"choropleth\",\"colorbar\":{\"outlinewidth\":0,\"ticks\":\"\"}}],\"histogram2d\":[{\"type\":\"histogram2d\",\"colorbar\":{\"outlinewidth\":0,\"ticks\":\"\"},\"colorscale\":[[0.0,\"#0d0887\"],[0.1111111111111111,\"#46039f\"],[0.2222222222222222,\"#7201a8\"],[0.3333333333333333,\"#9c179e\"],[0.4444444444444444,\"#bd3786\"],[0.5555555555555556,\"#d8576b\"],[0.6666666666666666,\"#ed7953\"],[0.7777777777777778,\"#fb9f3a\"],[0.8888888888888888,\"#fdca26\"],[1.0,\"#f0f921\"]]}],\"heatmap\":[{\"type\":\"heatmap\",\"colorbar\":{\"outlinewidth\":0,\"ticks\":\"\"},\"colorscale\":[[0.0,\"#0d0887\"],[0.1111111111111111,\"#46039f\"],[0.2222222222222222,\"#7201a8\"],[0.3333333333333333,\"#9c179e\"],[0.4444444444444444,\"#bd3786\"],[0.5555555555555556,\"#d8576b\"],[0.6666666666666666,\"#ed7953\"],[0.7777777777777778,\"#fb9f3a\"],[0.8888888888888888,\"#fdca26\"],[1.0,\"#f0f921\"]]}],\"heatmapgl\":[{\"type\":\"heatmapgl\",\"colorbar\":{\"outlinewidth\":0,\"ticks\":\"\"},\"colorscale\":[[0.0,\"#0d0887\"],[0.1111111111111111,\"#46039f\"],[0.2222222222222222,\"#7201a8\"],[0.3333333333333333,\"#9c179e\"],[0.4444444444444444,\"#bd3786\"],[0.5555555555555556,\"#d8576b\"],[0.6666666666666666,\"#ed7953\"],[0.7777777777777778,\"#fb9f3a\"],[0.8888888888888888,\"#fdca26\"],[1.0,\"#f0f921\"]]}],\"contourcarpet\":[{\"type\":\"contourcarpet\",\"colorbar\":{\"outlinewidth\":0,\"ticks\":\"\"}}],\"contour\":[{\"type\":\"contour\",\"colorbar\":{\"outlinewidth\":0,\"ticks\":\"\"},\"colorscale\":[[0.0,\"#0d0887\"],[0.1111111111111111,\"#46039f\"],[0.2222222222222222,\"#7201a8\"],[0.3333333333333333,\"#9c179e\"],[0.4444444444444444,\"#bd3786\"],[0.5555555555555556,\"#d8576b\"],[0.6666666666666666,\"#ed7953\"],[0.7777777777777778,\"#fb9f3a\"],[0.8888888888888888,\"#fdca26\"],[1.0,\"#f0f921\"]]}],\"surface\":[{\"type\":\"surface\",\"colorbar\":{\"outlinewidth\":0,\"ticks\":\"\"},\"colorscale\":[[0.0,\"#0d0887\"],[0.1111111111111111,\"#46039f\"],[0.2222222222222222,\"#7201a8\"],[0.3333333333333333,\"#9c179e\"],[0.4444444444444444,\"#bd3786\"],[0.5555555555555556,\"#d8576b\"],[0.6666666666666666,\"#ed7953\"],[0.7777777777777778,\"#fb9f3a\"],[0.8888888888888888,\"#fdca26\"],[1.0,\"#f0f921\"]]}],\"mesh3d\":[{\"type\":\"mesh3d\",\"colorbar\":{\"outlinewidth\":0,\"ticks\":\"\"}}],\"scatter\":[{\"fillpattern\":{\"fillmode\":\"overlay\",\"size\":10,\"solidity\":0.2},\"type\":\"scatter\"}],\"parcoords\":[{\"type\":\"parcoords\",\"line\":{\"colorbar\":{\"outlinewidth\":0,\"ticks\":\"\"}}}],\"scatterpolargl\":[{\"type\":\"scatterpolargl\",\"marker\":{\"colorbar\":{\"outlinewidth\":0,\"ticks\":\"\"}}}],\"bar\":[{\"error_x\":{\"color\":\"#2a3f5f\"},\"error_y\":{\"color\":\"#2a3f5f\"},\"marker\":{\"line\":{\"color\":\"#E5ECF6\",\"width\":0.5},\"pattern\":{\"fillmode\":\"overlay\",\"size\":10,\"solidity\":0.2}},\"type\":\"bar\"}],\"scattergeo\":[{\"type\":\"scattergeo\",\"marker\":{\"colorbar\":{\"outlinewidth\":0,\"ticks\":\"\"}}}],\"scatterpolar\":[{\"type\":\"scatterpolar\",\"marker\":{\"colorbar\":{\"outlinewidth\":0,\"ticks\":\"\"}}}],\"histogram\":[{\"marker\":{\"pattern\":{\"fillmode\":\"overlay\",\"size\":10,\"solidity\":0.2}},\"type\":\"histogram\"}],\"scattergl\":[{\"type\":\"scattergl\",\"marker\":{\"colorbar\":{\"outlinewidth\":0,\"ticks\":\"\"}}}],\"scatter3d\":[{\"type\":\"scatter3d\",\"line\":{\"colorbar\":{\"outlinewidth\":0,\"ticks\":\"\"}},\"marker\":{\"colorbar\":{\"outlinewidth\":0,\"ticks\":\"\"}}}],\"scattermapbox\":[{\"type\":\"scattermapbox\",\"marker\":{\"colorbar\":{\"outlinewidth\":0,\"ticks\":\"\"}}}],\"scatterternary\":[{\"type\":\"scatterternary\",\"marker\":{\"colorbar\":{\"outlinewidth\":0,\"ticks\":\"\"}}}],\"scattercarpet\":[{\"type\":\"scattercarpet\",\"marker\":{\"colorbar\":{\"outlinewidth\":0,\"ticks\":\"\"}}}],\"carpet\":[{\"aaxis\":{\"endlinecolor\":\"#2a3f5f\",\"gridcolor\":\"white\",\"linecolor\":\"white\",\"minorgridcolor\":\"white\",\"startlinecolor\":\"#2a3f5f\"},\"baxis\":{\"endlinecolor\":\"#2a3f5f\",\"gridcolor\":\"white\",\"linecolor\":\"white\",\"minorgridcolor\":\"white\",\"startlinecolor\":\"#2a3f5f\"},\"type\":\"carpet\"}],\"table\":[{\"cells\":{\"fill\":{\"color\":\"#EBF0F8\"},\"line\":{\"color\":\"white\"}},\"header\":{\"fill\":{\"color\":\"#C8D4E3\"},\"line\":{\"color\":\"white\"}},\"type\":\"table\"}],\"barpolar\":[{\"marker\":{\"line\":{\"color\":\"#E5ECF6\",\"width\":0.5},\"pattern\":{\"fillmode\":\"overlay\",\"size\":10,\"solidity\":0.2}},\"type\":\"barpolar\"}],\"pie\":[{\"automargin\":true,\"type\":\"pie\"}]},\"layout\":{\"autotypenumbers\":\"strict\",\"colorway\":[\"#636efa\",\"#EF553B\",\"#00cc96\",\"#ab63fa\",\"#FFA15A\",\"#19d3f3\",\"#FF6692\",\"#B6E880\",\"#FF97FF\",\"#FECB52\"],\"font\":{\"color\":\"#2a3f5f\"},\"hovermode\":\"closest\",\"hoverlabel\":{\"align\":\"left\"},\"paper_bgcolor\":\"white\",\"plot_bgcolor\":\"#E5ECF6\",\"polar\":{\"bgcolor\":\"#E5ECF6\",\"angularaxis\":{\"gridcolor\":\"white\",\"linecolor\":\"white\",\"ticks\":\"\"},\"radialaxis\":{\"gridcolor\":\"white\",\"linecolor\":\"white\",\"ticks\":\"\"}},\"ternary\":{\"bgcolor\":\"#E5ECF6\",\"aaxis\":{\"gridcolor\":\"white\",\"linecolor\":\"white\",\"ticks\":\"\"},\"baxis\":{\"gridcolor\":\"white\",\"linecolor\":\"white\",\"ticks\":\"\"},\"caxis\":{\"gridcolor\":\"white\",\"linecolor\":\"white\",\"ticks\":\"\"}},\"coloraxis\":{\"colorbar\":{\"outlinewidth\":0,\"ticks\":\"\"}},\"colorscale\":{\"sequential\":[[0.0,\"#0d0887\"],[0.1111111111111111,\"#46039f\"],[0.2222222222222222,\"#7201a8\"],[0.3333333333333333,\"#9c179e\"],[0.4444444444444444,\"#bd3786\"],[0.5555555555555556,\"#d8576b\"],[0.6666666666666666,\"#ed7953\"],[0.7777777777777778,\"#fb9f3a\"],[0.8888888888888888,\"#fdca26\"],[1.0,\"#f0f921\"]],\"sequentialminus\":[[0.0,\"#0d0887\"],[0.1111111111111111,\"#46039f\"],[0.2222222222222222,\"#7201a8\"],[0.3333333333333333,\"#9c179e\"],[0.4444444444444444,\"#bd3786\"],[0.5555555555555556,\"#d8576b\"],[0.6666666666666666,\"#ed7953\"],[0.7777777777777778,\"#fb9f3a\"],[0.8888888888888888,\"#fdca26\"],[1.0,\"#f0f921\"]],\"diverging\":[[0,\"#8e0152\"],[0.1,\"#c51b7d\"],[0.2,\"#de77ae\"],[0.3,\"#f1b6da\"],[0.4,\"#fde0ef\"],[0.5,\"#f7f7f7\"],[0.6,\"#e6f5d0\"],[0.7,\"#b8e186\"],[0.8,\"#7fbc41\"],[0.9,\"#4d9221\"],[1,\"#276419\"]]},\"xaxis\":{\"gridcolor\":\"white\",\"linecolor\":\"white\",\"ticks\":\"\",\"title\":{\"standoff\":15},\"zerolinecolor\":\"white\",\"automargin\":true,\"zerolinewidth\":2},\"yaxis\":{\"gridcolor\":\"white\",\"linecolor\":\"white\",\"ticks\":\"\",\"title\":{\"standoff\":15},\"zerolinecolor\":\"white\",\"automargin\":true,\"zerolinewidth\":2},\"scene\":{\"xaxis\":{\"backgroundcolor\":\"#E5ECF6\",\"gridcolor\":\"white\",\"linecolor\":\"white\",\"showbackground\":true,\"ticks\":\"\",\"zerolinecolor\":\"white\",\"gridwidth\":2},\"yaxis\":{\"backgroundcolor\":\"#E5ECF6\",\"gridcolor\":\"white\",\"linecolor\":\"white\",\"showbackground\":true,\"ticks\":\"\",\"zerolinecolor\":\"white\",\"gridwidth\":2},\"zaxis\":{\"backgroundcolor\":\"#E5ECF6\",\"gridcolor\":\"white\",\"linecolor\":\"white\",\"showbackground\":true,\"ticks\":\"\",\"zerolinecolor\":\"white\",\"gridwidth\":2}},\"shapedefaults\":{\"line\":{\"color\":\"#2a3f5f\"}},\"annotationdefaults\":{\"arrowcolor\":\"#2a3f5f\",\"arrowhead\":0,\"arrowwidth\":1},\"geo\":{\"bgcolor\":\"white\",\"landcolor\":\"#E5ECF6\",\"subunitcolor\":\"white\",\"showland\":true,\"showlakes\":true,\"lakecolor\":\"white\"},\"title\":{\"x\":0.05},\"mapbox\":{\"style\":\"light\"}}}},                        {\"responsive\": true}                    ).then(function(){\n",
              "                            \n",
              "var gd = document.getElementById('2c9d7551-6e2b-4d28-9835-770d790da652');\n",
              "var x = new MutationObserver(function (mutations, observer) {{\n",
              "        var display = window.getComputedStyle(gd).display;\n",
              "        if (!display || display === 'none') {{\n",
              "            console.log([gd, 'removed!']);\n",
              "            Plotly.purge(gd);\n",
              "            observer.disconnect();\n",
              "        }}\n",
              "}});\n",
              "\n",
              "// Listen for the removal of the full notebook cells\n",
              "var notebookContainer = gd.closest('#notebook-container');\n",
              "if (notebookContainer) {{\n",
              "    x.observe(notebookContainer, {childList: true});\n",
              "}}\n",
              "\n",
              "// Listen for the clearing of the current output cell\n",
              "var outputEl = gd.closest('.output');\n",
              "if (outputEl) {{\n",
              "    x.observe(outputEl, {childList: true});\n",
              "}}\n",
              "\n",
              "                        })                };                            </script>        </div>\n",
              "</body>\n",
              "</html>"
            ]
          },
          "metadata": {}
        }
      ],
      "source": [
        "from optuna.visualization import plot_optimization_history, plot_param_importances\n",
        "\n",
        "# Plot optimization history\n",
        "fig1 = plot_optimization_history(study)\n",
        "fig1.show()\n",
        "\n",
        "# Plot hyperparameter importances\n",
        "fig2 = plot_param_importances(study)\n",
        "fig2.show()"
      ]
    },
    {
      "cell_type": "markdown",
      "id": "809667eb",
      "metadata": {
        "id": "809667eb"
      },
      "source": [
        "### Final Comparison"
      ]
    },
    {
      "cell_type": "code",
      "execution_count": 9,
      "id": "02fc3565",
      "metadata": {
        "id": "02fc3565",
        "outputId": "8f2ebbc6-2150-4fc7-8655-704f8fff6c7e",
        "colab": {
          "base_uri": "https://localhost:8080/"
        }
      },
      "outputs": [
        {
          "output_type": "stream",
          "name": "stdout",
          "text": [
            "\n",
            "--- Comparison ---\n",
            "Metric         | RandomForest (Baseline) | Tuned XGBoost Model\n",
            "----------------|-------------------------|---------------------\n",
            "ROC AUC       | 0.761                   | 0.757\n"
          ]
        }
      ],
      "source": [
        "print(\"\\n--- Comparison ---\")\n",
        "print(\"Metric         | RandomForest (Baseline) | Tuned XGBoost Model\")\n",
        "print(\"----------------|-------------------------|---------------------\")\n",
        "rf_roc_auc = 0.761 #\n",
        "print(f\"ROC AUC       | {rf_roc_auc:.3f}                   | {tuned_roc_auc:.3f}\")"
      ]
    }
  ],
  "metadata": {
    "kernelspec": {
      "display_name": "Python 3",
      "language": "python",
      "name": "python3"
    },
    "language_info": {
      "codemirror_mode": {
        "name": "ipython",
        "version": 3
      },
      "file_extension": ".py",
      "mimetype": "text/x-python",
      "name": "python",
      "nbconvert_exporter": "python",
      "pygments_lexer": "ipython3",
      "version": "3.10.0"
    },
    "colab": {
      "provenance": []
    }
  },
  "nbformat": 4,
  "nbformat_minor": 5
}