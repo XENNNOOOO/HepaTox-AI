{
 "cells": [
  {
   "cell_type": "markdown",
   "id": "6d2dd50b",
   "metadata": {},
   "source": [
    "## Train Random Forest x XGBoost Ensemble"
   ]
  },
  {
   "cell_type": "markdown",
   "id": "db4d0e0f",
   "metadata": {},
   "source": [
    "### Setup"
   ]
  },
  {
   "cell_type": "code",
   "execution_count": null,
   "id": "a831fc0c",
   "metadata": {
    "vscode": {
     "languageId": "plaintext"
    }
   },
   "outputs": [],
   "source": [
    "import pandas as pd\n",
    "import numpy as np\n",
    "from sklearn.ensemble import RandomForestClassifier\n",
    "import xgboost as xgb\n",
    "import joblib\n",
    "import os\n",
    "import ast\n",
    "\n",
    "print(\"Libraries imported successfully.\")"
   ]
  },
  {
   "cell_type": "markdown",
   "id": "8884eed3",
   "metadata": {},
   "source": [
    "### Load the Processed Data"
   ]
  },
  {
   "cell_type": "code",
   "execution_count": null,
   "id": "f94f2596",
   "metadata": {
    "vscode": {
     "languageId": "plaintext"
    }
   },
   "outputs": [],
   "source": [
    "try:\n",
    "    df = pd.read_csv('data/processed/dili_data_clean.csv')\n",
    "    print(\"Successfully loaded processed data.\")\n",
    "    print(f\"Dataset shape: {df.shape}\")\n",
    "except FileNotFoundError:\n",
    "    print(\"Error: dili_data_clean.csv not found.\")\n",
    "    print(\"Please upload the file to your Colab session's file browser.\")"
   ]
  },
  {
   "cell_type": "markdown",
   "id": "b25ee39d",
   "metadata": {},
   "source": [
    "### Prepare Data for Modelling"
   ]
  },
  {
   "cell_type": "code",
   "execution_count": null,
   "id": "3e99ef12",
   "metadata": {
    "vscode": {
     "languageId": "plaintext"
    }
   },
   "outputs": [],
   "source": [
    "df.dropna(subset=['fingerprint'], inplace=True)\n",
    "df['fingerprint'] = df['fingerprint'].apply(ast.literal_eval)\n",
    "X = np.array(df['fingerprint'].tolist())\n",
    "y = df['dili_concern'].values\n",
    "\n",
    "print(f\"Data prepared for training.\")\n",
    "print(f\"Feature shape: {X.shape}\")\n",
    "print(f\"Target shape: {y.shape}\")"
   ]
  },
  {
   "cell_type": "markdown",
   "id": "ff71abf5",
   "metadata": {},
   "source": [
    "### Train the Ensemble Models"
   ]
  },
  {
   "cell_type": "code",
   "execution_count": null,
   "id": "4876f1a1",
   "metadata": {
    "vscode": {
     "languageId": "plaintext"
    }
   },
   "outputs": [],
   "source": [
    "# Train RandomForest Model\n",
    "print(\"Training RandomForest model on the full dataset...\")\n",
    "rf_model = RandomForestClassifier(\n",
    "    n_estimators=200,\n",
    "    class_weight='balanced',\n",
    "    random_state=42,\n",
    "    n_jobs=-1\n",
    ")\n",
    "rf_model.fit(X, y)\n",
    "print(\"RandomForest training complete.\")\n",
    "\n",
    "# Train XGBoost Model\n",
    "print(\"\\nTraining XGBoost model on the full dataset...\")\n",
    "best_xgb_params = {\n",
    "    'objective': 'binary:logistic', 'eval_metric': 'logloss', 'use_label_encoder': False,\n",
    "    'random_state': 42, 'n_estimators': 100, 'max_depth': 5,\n",
    "    'learning_rate': 0.1, 'subsample': 0.9, 'colsample_bytree': 0.7,\n",
    "    'gamma': 0.2, 'min_child_weight': 1 # Using best params from tuning\n",
    "}\n",
    "neg_count = np.sum(y == 0)\n",
    "pos_count = np.sum(y == 1)\n",
    "best_xgb_params['scale_pos_weight'] = neg_count / pos_count if pos_count > 0 else 1\n",
    "\n",
    "xgb_model = xgb.XGBClassifier(**best_xgb_params)\n",
    "xgb_model.fit(X, y)\n",
    "print(\"XGBoost training complete.\")"
   ]
  },
  {
   "cell_type": "markdown",
   "id": "085d2ccc",
   "metadata": {},
   "source": [
    "### Save the Ensemble Model"
   ]
  },
  {
   "cell_type": "code",
   "execution_count": null,
   "id": "d0436d79",
   "metadata": {
    "vscode": {
     "languageId": "plaintext"
    }
   },
   "outputs": [],
   "source": [
    "MODEL_OUTPUT_DIR = 'models'\n",
    "MODEL_PATH = os.path.join(MODEL_OUTPUT_DIR, 'ensemble_model.pkl')\n",
    "\n",
    "os.makedirs(MODEL_OUTPUT_DIR, exist_ok=True)\n",
    "\n",
    "ensemble_models = {\n",
    "    'random_forest': rf_model,\n",
    "    'xgboost': xgb_model\n",
    "}\n",
    "\n",
    "joblib.dump(ensemble_models, MODEL_PATH)\n",
    "print(f\"\\nEnsemble model successfully saved to '{MODEL_PATH}'\")\n",
    "print(\"You can now download this file from the Colab file browser to use with the GUI.\")"
   ]
  }
 ],
 "metadata": {
  "language_info": {
   "name": "python"
  }
 },
 "nbformat": 4,
 "nbformat_minor": 5
}
