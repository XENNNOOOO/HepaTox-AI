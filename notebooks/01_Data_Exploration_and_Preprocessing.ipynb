{
 "cells": [
  {
   "cell_type": "markdown",
   "id": "c0034be5",
   "metadata": {},
   "source": [
    "## Notebook 1: Data Exploration and Preprocessing\n",
    "\n",
    "Load the DILIrank dataset, clean it, fetch molecular structures for each drug, and generate numerical features (molecular fingerprints) for our machine learning model."
   ]
  },
  {
   "cell_type": "markdown",
   "id": "537c51a9",
   "metadata": {},
   "source": [
    "### Setup"
   ]
  },
  {
   "cell_type": "code",
   "execution_count": null,
   "id": "93894087",
   "metadata": {},
   "outputs": [
    {
     "name": "stdout",
     "output_type": "stream",
     "text": [
      "Libraries imported successfully.\n"
     ]
    }
   ],
   "source": [
    "import pandas as pd\n",
    "import numpy as np\n",
    "from rdkit import Chem\n",
    "from rdkit.Chem import AllChem\n",
    "from rdkit import RDLogger \n",
    "import cirpy \n",
    "from tqdm.notebook import tqdm\n",
    "import time\n",
    "import os\n",
    "\n",
    "tqdm.pandas()\n",
    "\n",
    "print(\"Libraries imported successfully.\")"
   ]
  },
  {
   "cell_type": "markdown",
   "id": "e4f52e95",
   "metadata": {},
   "source": [
    "### Load the Dataset"
   ]
  },
  {
   "cell_type": "code",
   "execution_count": 2,
   "id": "64589e0b",
   "metadata": {},
   "outputs": [
    {
     "name": "stdout",
     "output_type": "stream",
     "text": [
      "Dataset loaded successfully.\n",
      "Shape of the dataset: (1036, 6)\n"
     ]
    }
   ],
   "source": [
    "try:\n",
    "    df = pd.read_csv('../data/raw/DILIrank_dataset.csv')\n",
    "    print(\"Dataset loaded successfully.\")\n",
    "    print(f\"Shape of the dataset: {df.shape}\")\n",
    "except FileNotFoundError:\n",
    "    print(\"Error: DILIrank_dataset.csv not found.\")\n",
    "    print(\"Please make sure you have saved the dataset as a CSV in the 'data/raw/' directory.\")"
   ]
  },
  {
   "cell_type": "markdown",
   "id": "a72d98d6",
   "metadata": {},
   "source": [
    "### Initial Exploration"
   ]
  },
  {
   "cell_type": "code",
   "execution_count": 3,
   "id": "e2f4b6ad",
   "metadata": {},
   "outputs": [
    {
     "name": "stdout",
     "output_type": "stream",
     "text": [
      "First 5 rows of the dataset:"
     ]
    },
    {
     "name": "stdout",
     "output_type": "stream",
     "text": [
      "\n",
      "\n",
      "Missing values in each column:\n",
      "LTKBID            0\n",
      "Compound Name     0\n",
      "Severity Class    0\n",
      "Label Section     0\n",
      "vDILIConcern      0\n",
      "Version           0\n",
      "dtype: int64\n",
      "\n",
      "Distribution of DILI Concern classes:\n",
      "vDILIConcern\n",
      "No-DILI-Concern           312\n",
      "Less-DILI-Concern         278\n",
      "Ambiguous DILI-concern    254\n",
      "Most-DILI-Concern         192\n",
      "Name: count, dtype: int64\n"
     ]
    }
   ],
   "source": [
    "print(\"First 5 rows of the dataset:\")\n",
    "df.head()\n",
    "\n",
    "# Check for missing values\n",
    "print(\"\\nMissing values in each column:\")\n",
    "print(df.isnull().sum())\n",
    "\n",
    "# Check the distribution of our target variable, 'vDILIConcern'\n",
    "print(\"\\nDistribution of DILI Concern classes:\")\n",
    "print(df['vDILIConcern'].value_counts())"
   ]
  },
  {
   "cell_type": "markdown",
   "id": "54ed8be5",
   "metadata": {},
   "source": [
    "### Data Cleaning and Preprocessing\n",
    "\n",
    "For our baseline model, we will simplify the problem from three classes to a binary classification: **DILI Concern (1)** vs. **No DILI Concern (0)**. This is a common and effective approach. We'll combine the \"Most\" and \"Less\" classes into a single positive class.\n"
   ]
  },
  {
   "cell_type": "code",
   "execution_count": 4,
   "id": "88eabb7b",
   "metadata": {},
   "outputs": [
    {
     "name": "stdout",
     "output_type": "stream",
     "text": [
      "Distribution of the new binary target 'dili_concern':\n",
      "dili_concern\n",
      "1    724\n",
      "0    312\n",
      "Name: count, dtype: int64\n"
     ]
    },
    {
     "data": {
      "text/html": [
       "<div>\n",
       "<style scoped>\n",
       "    .dataframe tbody tr th:only-of-type {\n",
       "        vertical-align: middle;\n",
       "    }\n",
       "\n",
       "    .dataframe tbody tr th {\n",
       "        vertical-align: top;\n",
       "    }\n",
       "\n",
       "    .dataframe thead th {\n",
       "        text-align: right;\n",
       "    }\n",
       "</style>\n",
       "<table border=\"1\" class=\"dataframe\">\n",
       "  <thead>\n",
       "    <tr style=\"text-align: right;\">\n",
       "      <th></th>\n",
       "      <th>Compound Name</th>\n",
       "      <th>vDILIConcern</th>\n",
       "      <th>dili_concern</th>\n",
       "    </tr>\n",
       "  </thead>\n",
       "  <tbody>\n",
       "    <tr>\n",
       "      <th>0</th>\n",
       "      <td>mercaptopurine</td>\n",
       "      <td>Most-DILI-Concern</td>\n",
       "      <td>1</td>\n",
       "    </tr>\n",
       "    <tr>\n",
       "      <th>1</th>\n",
       "      <td>acetaminophen</td>\n",
       "      <td>Most-DILI-Concern</td>\n",
       "      <td>1</td>\n",
       "    </tr>\n",
       "    <tr>\n",
       "      <th>2</th>\n",
       "      <td>azathioprine</td>\n",
       "      <td>Most-DILI-Concern</td>\n",
       "      <td>1</td>\n",
       "    </tr>\n",
       "    <tr>\n",
       "      <th>3</th>\n",
       "      <td>chlorpheniramine</td>\n",
       "      <td>No-DILI-Concern</td>\n",
       "      <td>0</td>\n",
       "    </tr>\n",
       "    <tr>\n",
       "      <th>4</th>\n",
       "      <td>clofibrate</td>\n",
       "      <td>Less-DILI-Concern</td>\n",
       "      <td>1</td>\n",
       "    </tr>\n",
       "  </tbody>\n",
       "</table>\n",
       "</div>"
      ],
      "text/plain": [
       "      Compound Name       vDILIConcern  dili_concern\n",
       "0    mercaptopurine  Most-DILI-Concern             1\n",
       "1     acetaminophen  Most-DILI-Concern             1\n",
       "2      azathioprine  Most-DILI-Concern             1\n",
       "3  chlorpheniramine    No-DILI-Concern             0\n",
       "4        clofibrate  Less-DILI-Concern             1"
      ]
     },
     "execution_count": 4,
     "metadata": {},
     "output_type": "execute_result"
    }
   ],
   "source": [
    "# Create the binary target column 'dili_concern'\n",
    "df['dili_concern'] = df['vDILIConcern'].apply(lambda x: 0 if str(x).strip() == 'No-DILI-Concern' else 1)\n",
    "\n",
    "# Verify the new distribution\n",
    "print(\"Distribution of the new binary target 'dili_concern':\")\n",
    "print(df['dili_concern'].value_counts())\n",
    "\n",
    "# Clean up compound names\n",
    "df['Compound Name'] = df['Compound Name'].str.strip()\n",
    "\n",
    "df_clean = df[['Compound Name', 'vDILIConcern', 'dili_concern']].copy()\n",
    "df_clean.head()"
   ]
  },
  {
   "cell_type": "markdown",
   "id": "e749ca5a",
   "metadata": {},
   "source": [
    "### Fetching Molecular Structures (SMILES)\n",
    "\n",
    "Our model can't understand \"Aspirin\". It needs a machine-readable representation of the molecule. We'll use the `pubchempy` library to search the PubChem database for each drug name and retrieve its **SMILES string**, a standard text format for chemical structures.\n"
   ]
  },
  {
   "cell_type": "code",
   "execution_count": 5,
   "id": "93d7f31b",
   "metadata": {},
   "outputs": [
    {
     "name": "stdout",
     "output_type": "stream",
     "text": [
      "--- Running Sanity Check with cirpy ---\n",
      "Sanity Check PASSED. Found Aspirin: CC(=O)Oc1ccccc1C(O)=O\n",
      "\n",
      "Fetching SMILES strings using cirpy... (This may take a few minutes)\n"
     ]
    },
    {
     "data": {
      "application/vnd.jupyter.widget-view+json": {
       "model_id": "936a2cfd96d2480b83ff0df6ec7cbadf",
       "version_major": 2,
       "version_minor": 0
      },
      "text/plain": [
       "  0%|          | 0/1036 [00:00<?, ?it/s]"
      ]
     },
     "metadata": {},
     "output_type": "display_data"
    },
    {
     "name": "stdout",
     "output_type": "stream",
     "text": [
      "'rifampin' not found by cirpy.\n",
      "'carboplatin' not found by cirpy.\n",
      "'corticotropin' not found by cirpy.\n",
      "'cholestyramine' not found by cirpy.\n",
      "'isorbide mononitrate' not found by cirpy.\n",
      "'sucralfate' not found by cirpy.\n",
      "'cupric chloride' not found by cirpy.\n",
      "'minocycline' not found by cirpy.\n",
      "'prazosin' not found by cirpy.\n",
      "'corticorelin ovine triflutate' not found by cirpy.\n",
      "'sirolimus' not found by cirpy.\n",
      "'sacrosidase' not found by cirpy.\n",
      "'nesiritide' not found by cirpy.\n",
      "'gemtuzumab ozogamicin' not found by cirpy.\n",
      "'trospium' not found by cirpy.\n",
      "'exenatide' not found by cirpy.\n",
      "'lisdexamfetamine' not found by cirpy.\n",
      "'fesoterodine' not found by cirpy.\n",
      "'levocetirizine dihydrochloride' not found by cirpy.\n",
      "'nilotinib' not found by cirpy.\n",
      "'ferumoxytol' not found by cirpy.\n",
      "'degarelix' not found by cirpy.\n",
      "'fospropofol' not found by cirpy.\n",
      "'pazopanib' not found by cirpy.\n",
      "'pancrelipase' not found by cirpy.\n",
      "'ecallantide' not found by cirpy.\n",
      "'dermatan' not found by cirpy.\n",
      "'pafuraidine' not found by cirpy.\n",
      "'hyaluronidase' not found by cirpy.\n",
      "'protamine sulfate' not found by cirpy.\n",
      "'thyrotropin alfa' not found by cirpy.\n",
      "'pancuronium' not found by cirpy.\n",
      "'somatropin recombinant' not found by cirpy.\n",
      "'rubidium chloride rb-82' not found by cirpy.\n",
      "'pegademase bovine' not found by cirpy.\n",
      "'dalteparin sodium' not found by cirpy.\n",
      "'aprotinin' not found by cirpy.\n",
      "'ferumoxsil' not found by cirpy.\n",
      "'ferumoxides' not found by cirpy.\n",
      "'tinzaparin' not found by cirpy.\n",
      "'polyethylene glycol 3350' not found by cirpy.\n",
      "'gadoversetamide' not found by cirpy.\n",
      "'pegvisomant' not found by cirpy.\n",
      "'colesevelam' not found by cirpy.\n",
      "'choriogonadotropin alfa' not found by cirpy.\n",
      "'bleomycin' not found by cirpy.\n",
      "'solifenacin' not found by cirpy.\n",
      "'mecasermin' not found by cirpy.\n",
      "'urokinase' not found by cirpy.\n",
      "'fosaprepitant' not found by cirpy.\n",
      "'temsirolimus' not found by cirpy.\n",
      "'dexlansoprazole' not found by cirpy.\n",
      "'colistimethate' not found by cirpy.\n",
      "'benzylpenicilloyl polylysine' not found by cirpy.\n",
      "'asparaginase' not found by cirpy.\n",
      "'botulinum toxin type a' not found by cirpy.\n",
      "'interferon alfa-2b' not found by cirpy.\n",
      "'interferon alfa-2a, recombinant' not found by cirpy.\n",
      "'alteplase' not found by cirpy.\n",
      "'epoetin alfa' not found by cirpy.\n",
      "'aldesleukin' not found by cirpy.\n",
      "'filgrastim' not found by cirpy.\n",
      "'sargramostim' not found by cirpy.\n",
      "'pegaspargase' not found by cirpy.\n",
      "'muromonab-cd3' not found by cirpy.\n",
      "'interferon beta-1b' not found by cirpy.\n",
      "'abciximab' not found by cirpy.\n",
      "'interferon beta-1a' not found by cirpy.\n",
      "'interferon alfacon-1' not found by cirpy.\n",
      "'oprelvekin' not found by cirpy.\n",
      "'basiliximab' not found by cirpy.\n",
      "'denileukin diftitox' not found by cirpy.\n",
      "'palivizumab' not found by cirpy.\n",
      "'infliximab' not found by cirpy.\n",
      "'reteplase' not found by cirpy.\n",
      "'trastuzumab' not found by cirpy.\n",
      "'etanercept' not found by cirpy.\n",
      "'interferon gamma-1b' not found by cirpy.\n",
      "'botulinum toxin type b' not found by cirpy.\n",
      "'tenecteplase' not found by cirpy.\n",
      "'rasburicase' not found by cirpy.\n",
      "'alemtuzumab' not found by cirpy.\n",
      "'peginterferon alfa-2b' not found by cirpy.\n",
      "'anakinra' not found by cirpy.\n",
      "'darbepoetin alfa' not found by cirpy.\n",
      "'peginterferon alfa-2a' not found by cirpy.\n",
      "'omalizumab' not found by cirpy.\n",
      "'ibritumomab tiuxetan' not found by cirpy.\n",
      "'pegfilgrastim' not found by cirpy.\n",
      "'adalimumab' not found by cirpy.\n",
      "'cetuximab' not found by cirpy.\n",
      "'bevacizumab' not found by cirpy.\n",
      "'palifermin' not found by cirpy.\n",
      "'natalizumab' not found by cirpy.\n",
      "'galsulfase' not found by cirpy.\n",
      "'abatacept' not found by cirpy.\n",
      "'alglucosidase alfa' not found by cirpy.\n",
      "'panitumumab' not found by cirpy.\n",
      "'idursulfase' not found by cirpy.\n",
      "'certolizumab pegol' not found by cirpy.\n",
      "'eculizumab' not found by cirpy.\n",
      "'rilonacept' not found by cirpy.\n",
      "'ustekinumab' not found by cirpy.\n",
      "'romiplostim' not found by cirpy.\n",
      "'golimumab' not found by cirpy.\n",
      "'ofatumumab' not found by cirpy.\n",
      "'antithymocyte globulin' not found by cirpy.\n",
      "'nalbuphine' not found by cirpy.\n",
      "'sulcotidil' not found by cirpy.\n",
      "'zimelidine' not found by cirpy.\n",
      "'follitropin alfa/beta' not found by cirpy.\n",
      "'cromoglicate' not found by cirpy.\n",
      "'auranofin' not found by cirpy.\n",
      "'clemastine' not found by cirpy.\n",
      "'erythropoietin' not found by cirpy.\n",
      "'plerixafor' not found by cirpy.\n",
      "'Hetastarch' not found by cirpy.\n",
      "'imiglucerase' not found by cirpy.\n",
      "'agalsidase beta' not found by cirpy.\n",
      "'gadolinium ethoxybenzyl DTPA' not found by cirpy.\n",
      "'Estrogens, Conjugated' not found by cirpy.\n",
      "'canakinumab' not found by cirpy.\n",
      "'Levoleucovorin' not found by cirpy.\n",
      "'levomefolate calcium' not found by cirpy.\n",
      "'laronidase' not found by cirpy.\n",
      "'hyaluronidase recombinant human' not found by cirpy.\n",
      "\n",
      "Finished fetching SMILES.\n"
     ]
    }
   ],
   "source": [
    "def get_smiles_from_name_cir(compound_name):\n",
    "    \"\"\"\n",
    "    Resolves a compound name to a SMILES string using the cirpy library.\n",
    "    \"\"\"\n",
    "    try:\n",
    "        # The 'smiles' representation is what we want\n",
    "        smiles = cirpy.resolve(compound_name, 'smiles')\n",
    "        if smiles is None:\n",
    "            print(f\"'{compound_name}' not found by cirpy.\")\n",
    "        return smiles\n",
    "    except Exception as e:\n",
    "        print(f\"An error occurred for '{compound_name}': {e}\")\n",
    "        return None\n",
    "\n",
    "print(\"--- Running Sanity Check with cirpy ---\")\n",
    "test_smiles = get_smiles_from_name_cir(\"Aspirin\")\n",
    "if test_smiles:\n",
    "    print(f\"Sanity Check PASSED. Found Aspirin: {test_smiles}\\n\")\n",
    "else:\n",
    "    print(\"Sanity Check FAILED. Could not retrieve SMILES for Aspirin.\")\n",
    "    print(\"This strongly indicates a persistent network/firewall issue.\\n\")\n",
    "\n",
    "print(\"Fetching SMILES strings using cirpy... (This may take a few minutes)\")\n",
    "df_clean['smiles'] = df_clean['Compound Name'].progress_apply(get_smiles_from_name_cir)\n",
    "\n",
    "print(\"\\nFinished fetching SMILES.\")"
   ]
  },
  {
   "cell_type": "markdown",
   "id": "18a0dc96",
   "metadata": {},
   "source": [
    "Check if any SMILES were not found"
   ]
  },
  {
   "cell_type": "code",
   "execution_count": 6,
   "id": "768a6a82",
   "metadata": {},
   "outputs": [
    {
     "name": "stdout",
     "output_type": "stream",
     "text": [
      "\n",
      "Number of compounds where SMILES could not be found: 126\n",
      "\n",
      "Some compounds with missing SMILES (first 10):\n",
      "['rifampin', 'carboplatin', 'corticotropin', 'cholestyramine', 'isorbide mononitrate', 'sucralfate', 'cupric chloride', 'minocycline', 'prazosin', 'corticorelin ovine triflutate']\n",
      "\n",
      "Shape of the dataset after dropping missing SMILES: (910, 4)\n"
     ]
    }
   ],
   "source": [
    "missing_smiles = df_clean['smiles'].isnull().sum()\n",
    "print(f\"\\nNumber of compounds where SMILES could not be found: {missing_smiles}\")\n",
    "\n",
    "if missing_smiles > 0:\n",
    "    print(\"\\nSome compounds with missing SMILES (first 10):\")\n",
    "    print(df_clean[df_clean['smiles'].isnull()]['Compound Name'].head(10).tolist())\n",
    "\n",
    "# Drop the rows where we couldn't find a structure\n",
    "df_final = df_clean.dropna(subset=['smiles']).copy()\n",
    "print(f\"\\nShape of the dataset after dropping missing SMILES: {df_final.shape}\")"
   ]
  },
  {
   "cell_type": "markdown",
   "id": "1579b66e",
   "metadata": {},
   "source": [
    "### Feature Engineering - Molecular Fingerprints\n",
    "\n",
    "Now that we have the SMILES strings, we can use `RDKit` to convert them into **Morgan Fingerprints**. A fingerprint is a numerical vector (a list of 0s and 1s) that represents the presence or absence of various small chemical substructures within the molecule. This is the numerical input our XGBoost model will learn from.\n"
   ]
  },
  {
   "cell_type": "code",
   "execution_count": null,
   "id": "9207420c",
   "metadata": {},
   "outputs": [
    {
     "name": "stdout",
     "output_type": "stream",
     "text": [
      "\n",
      "Generating Morgan Fingerprints...\n"
     ]
    },
    {
     "data": {
      "application/vnd.jupyter.widget-view+json": {
       "model_id": "27f332635e9448f8ab1dc401267f040e",
       "version_major": 2,
       "version_minor": 0
      },
      "text/plain": [
       "  0%|          | 0/910 [00:00<?, ?it/s]"
      ]
     },
     "metadata": {},
     "output_type": "display_data"
    },
    {
     "name": "stdout",
     "output_type": "stream",
     "text": [
      "Finished generating fingerprints.\n"
     ]
    }
   ],
   "source": [
    "def generate_fingerprint(smiles):\n",
    "    \"\"\"\n",
    "    Generates a Morgan Fingerprint from a SMILES string.\n",
    "    \"\"\"\n",
    "    mol = Chem.MolFromSmiles(smiles)\n",
    "    if mol is not None:\n",
    "        fp = AllChem.GetMorganFingerprintAsBitVect(mol, 2, nBits=1024)\n",
    "        return list(fp)\n",
    "    else:\n",
    "        return None\n",
    "\n",
    "# Temporarily disable RDKit warnings\n",
    "lg = RDLogger.logger()\n",
    "lg.setLevel(RDLogger.CRITICAL)\n",
    "\n",
    "print(\"\\nGenerating Morgan Fingerprints...\")\n",
    "if not df_final.empty:\n",
    "    df_final['fingerprint'] = df_final['smiles'].progress_apply(generate_fingerprint)\n",
    "    print(\"Finished generating fingerprints.\")\n",
    "else:\n",
    "    print(\"Skipping fingerprint generation as no SMILES were found.\")\n",
    "\n",
    "# Re-enable RDKit warnings\n",
    "lg.setLevel(RDLogger.INFO)"
   ]
  },
  {
   "cell_type": "markdown",
   "id": "0e02b2fd",
   "metadata": {},
   "source": [
    "### Processed Data Saving"
   ]
  },
  {
   "cell_type": "code",
   "execution_count": null,
   "id": "58e21968",
   "metadata": {},
   "outputs": [
    {
     "name": "stdout",
     "output_type": "stream",
     "text": [
      "\n",
      "Processed data saved to '../data/processed/dili_data_clean.csv'\n"
     ]
    }
   ],
   "source": [
    "output_dir = '../data/processed'\n",
    "output_path = os.path.join(output_dir, 'dili_data_clean.csv')\n",
    "\n",
    "# Save the processed data only if it's not empty\n",
    "if not df_final.empty:\n",
    "    # Create the directory if it doesn't exist\n",
    "    os.makedirs(output_dir, exist_ok=True)\n",
    "    \n",
    "    # Save the dataframe to csv\n",
    "    df_final.to_csv(output_path, index=False)\n",
    "    print(f\"\\nProcessed data saved to '{output_path}'\")\n",
    "else:\n",
    "    print(\"\\nNo data to save.\")"
   ]
  }
 ],
 "metadata": {
  "kernelspec": {
   "display_name": "Python 3",
   "language": "python",
   "name": "python3"
  },
  "language_info": {
   "codemirror_mode": {
    "name": "ipython",
    "version": 3
   },
   "file_extension": ".py",
   "mimetype": "text/x-python",
   "name": "python",
   "nbconvert_exporter": "python",
   "pygments_lexer": "ipython3",
   "version": "3.10.0"
  }
 },
 "nbformat": 4,
 "nbformat_minor": 5
}
