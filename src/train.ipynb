{
  "cells": [
    {
      "cell_type": "markdown",
      "id": "6d2dd50b",
      "metadata": {
        "id": "6d2dd50b"
      },
      "source": [
        "## Train Random Forest x XGBoost Ensemble"
      ]
    },
    {
      "cell_type": "markdown",
      "id": "db4d0e0f",
      "metadata": {
        "id": "db4d0e0f"
      },
      "source": [
        "### Setup"
      ]
    },
    {
      "cell_type": "code",
      "execution_count": 4,
      "id": "a831fc0c",
      "metadata": {
        "vscode": {
          "languageId": "plaintext"
        },
        "id": "a831fc0c",
        "outputId": "a983f56d-6a09-47ef-b1c9-7444fff6ec13",
        "colab": {
          "base_uri": "https://localhost:8080/"
        }
      },
      "outputs": [
        {
          "output_type": "stream",
          "name": "stdout",
          "text": [
            "Libraries imported successfully.\n"
          ]
        }
      ],
      "source": [
        "import pandas as pd\n",
        "import numpy as np\n",
        "from sklearn.ensemble import RandomForestClassifier\n",
        "import xgboost as xgb\n",
        "import joblib\n",
        "import os\n",
        "import ast\n",
        "\n",
        "print(\"Libraries imported successfully.\")"
      ]
    },
    {
      "cell_type": "markdown",
      "id": "8884eed3",
      "metadata": {
        "id": "8884eed3"
      },
      "source": [
        "### Load the Processed Data"
      ]
    },
    {
      "cell_type": "code",
      "execution_count": 5,
      "id": "f94f2596",
      "metadata": {
        "vscode": {
          "languageId": "plaintext"
        },
        "id": "f94f2596",
        "outputId": "502e08bb-1291-483e-9659-1fbd45b1f327",
        "colab": {
          "base_uri": "https://localhost:8080/"
        }
      },
      "outputs": [
        {
          "output_type": "stream",
          "name": "stdout",
          "text": [
            "Successfully loaded processed data.\n",
            "Dataset shape: (907, 5)\n"
          ]
        }
      ],
      "source": [
        "try:\n",
        "    df = pd.read_csv('data/processed/dili_data_clean.csv')\n",
        "    print(\"Successfully loaded processed data.\")\n",
        "    print(f\"Dataset shape: {df.shape}\")\n",
        "except FileNotFoundError:\n",
        "    print(\"Error: dili_data_clean.csv not found.\")\n",
        "    print(\"Please upload the file to your Colab session's file browser.\")"
      ]
    },
    {
      "cell_type": "markdown",
      "id": "b25ee39d",
      "metadata": {
        "id": "b25ee39d"
      },
      "source": [
        "### Prepare Data for Modelling"
      ]
    },
    {
      "cell_type": "code",
      "execution_count": 6,
      "id": "3e99ef12",
      "metadata": {
        "vscode": {
          "languageId": "plaintext"
        },
        "id": "3e99ef12",
        "outputId": "536311e8-dd91-479f-ecba-7de3f20fdde0",
        "colab": {
          "base_uri": "https://localhost:8080/"
        }
      },
      "outputs": [
        {
          "output_type": "stream",
          "name": "stdout",
          "text": [
            "Data prepared for training.\n",
            "Feature shape: (907, 1024)\n",
            "Target shape: (907,)\n"
          ]
        }
      ],
      "source": [
        "df.dropna(subset=['fingerprint'], inplace=True)\n",
        "df['fingerprint'] = df['fingerprint'].apply(ast.literal_eval)\n",
        "X = np.array(df['fingerprint'].tolist())\n",
        "y = df['dili_concern'].values\n",
        "\n",
        "print(f\"Data prepared for training.\")\n",
        "print(f\"Feature shape: {X.shape}\")\n",
        "print(f\"Target shape: {y.shape}\")"
      ]
    },
    {
      "cell_type": "markdown",
      "id": "ff71abf5",
      "metadata": {
        "id": "ff71abf5"
      },
      "source": [
        "### Train the Ensemble Models"
      ]
    },
    {
      "cell_type": "code",
      "execution_count": 7,
      "id": "4876f1a1",
      "metadata": {
        "vscode": {
          "languageId": "plaintext"
        },
        "id": "4876f1a1",
        "outputId": "97cff4a2-5924-4bb6-d33c-02ba7dc73992",
        "colab": {
          "base_uri": "https://localhost:8080/"
        }
      },
      "outputs": [
        {
          "output_type": "stream",
          "name": "stdout",
          "text": [
            "Training RandomForest model on the full dataset...\n",
            "RandomForest training complete.\n",
            "\n",
            "Training XGBoost model on the full dataset...\n"
          ]
        },
        {
          "output_type": "stream",
          "name": "stderr",
          "text": [
            "/usr/local/lib/python3.12/dist-packages/xgboost/training.py:183: UserWarning: [07:51:13] WARNING: /workspace/src/learner.cc:738: \n",
            "Parameters: { \"use_label_encoder\" } are not used.\n",
            "\n",
            "  bst.update(dtrain, iteration=i, fobj=obj)\n"
          ]
        },
        {
          "output_type": "stream",
          "name": "stdout",
          "text": [
            "XGBoost training complete.\n"
          ]
        }
      ],
      "source": [
        "# Train RandomForest Model\n",
        "print(\"Training RandomForest model on the full dataset...\")\n",
        "rf_model = RandomForestClassifier(\n",
        "    n_estimators=200,\n",
        "    class_weight='balanced',\n",
        "    random_state=42,\n",
        "    n_jobs=-1\n",
        ")\n",
        "rf_model.fit(X, y)\n",
        "print(\"RandomForest training complete.\")\n",
        "\n",
        "# Train XGBoost Model\n",
        "print(\"\\nTraining XGBoost model on the full dataset...\")\n",
        "best_xgb_params = {\n",
        "    'objective': 'binary:logistic', 'eval_metric': 'logloss', 'use_label_encoder': False,\n",
        "    'random_state': 42, 'n_estimators': 100, 'max_depth': 5,\n",
        "    'learning_rate': 0.1, 'subsample': 0.9, 'colsample_bytree': 0.7,\n",
        "    'gamma': 0.2, 'min_child_weight': 1 # Using best params from tuning\n",
        "}\n",
        "neg_count = np.sum(y == 0)\n",
        "pos_count = np.sum(y == 1)\n",
        "best_xgb_params['scale_pos_weight'] = neg_count / pos_count if pos_count > 0 else 1\n",
        "\n",
        "xgb_model = xgb.XGBClassifier(**best_xgb_params)\n",
        "xgb_model.fit(X, y)\n",
        "print(\"XGBoost training complete.\")"
      ]
    },
    {
      "cell_type": "markdown",
      "id": "085d2ccc",
      "metadata": {
        "id": "085d2ccc"
      },
      "source": [
        "### Save the Ensemble Model"
      ]
    },
    {
      "cell_type": "code",
      "execution_count": 8,
      "id": "d0436d79",
      "metadata": {
        "vscode": {
          "languageId": "plaintext"
        },
        "id": "d0436d79",
        "outputId": "1aea56d2-edd1-4f51-9031-a483740f14cf",
        "colab": {
          "base_uri": "https://localhost:8080/"
        }
      },
      "outputs": [
        {
          "output_type": "stream",
          "name": "stdout",
          "text": [
            "\n",
            "Ensemble model successfully saved to 'models/ensemble_model.pkl'\n",
            "You can now download this file from the Colab file browser to use with the GUI.\n"
          ]
        }
      ],
      "source": [
        "MODEL_OUTPUT_DIR = 'models'\n",
        "MODEL_PATH = os.path.join(MODEL_OUTPUT_DIR, 'ensemble_model.pkl')\n",
        "\n",
        "os.makedirs(MODEL_OUTPUT_DIR, exist_ok=True)\n",
        "\n",
        "ensemble_models = {\n",
        "    'random_forest': rf_model,\n",
        "    'xgboost': xgb_model\n",
        "}\n",
        "\n",
        "joblib.dump(ensemble_models, MODEL_PATH)\n",
        "print(f\"\\nEnsemble model successfully saved to '{MODEL_PATH}'\")"
      ]
    }
  ],
  "metadata": {
    "language_info": {
      "name": "python"
    },
    "colab": {
      "provenance": []
    },
    "kernelspec": {
      "name": "python3",
      "display_name": "Python 3"
    }
  },
  "nbformat": 4,
  "nbformat_minor": 5
}